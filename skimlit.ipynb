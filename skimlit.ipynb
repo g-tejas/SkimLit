{
 "cells": [
  {
   "cell_type": "markdown",
   "metadata": {},
   "source": [
    "![title](img/skimlit.png)\n",
    "\n",
    "## 📖 The purpose of SkimLit is to build a NLP model to make reading medical abstracts easier.\n",
    "\n",
    "The paper being replicated is available [here](https://arxiv.org/abs/1710.06071) <br>\n",
    "The dataset can be found [here](https://github.com/Franck-Dernoncourt/pubmed-rct.git)"
   ]
  },
  {
   "cell_type": "markdown",
   "metadata": {
    "tags": []
   },
   "source": [
    "---\n",
    "### ⬇️ Download the <span style=\"color:green\">data</span>.\n",
    "Start with the smaller, 20k Dataset. Once a model that performs best with the 20k dataset is found, upscale the model to train on the 200k dataset "
   ]
  },
  {
   "cell_type": "code",
   "execution_count": 5,
   "metadata": {},
   "outputs": [
    {
     "name": "stdout",
     "output_type": "stream",
     "text": [
      "File already exists\n"
     ]
    }
   ],
   "source": [
    "import os\n",
    "\n",
    "# If file doesn't already exist, download the dataset\n",
    "if os.path.exists('./data/pubmed-rct'):\n",
    "    print(\"File already exists\")\n",
    "else:\n",
    "    !git clone https://github.com/Franck-Dernoncourt/pubmed-rct.git"
   ]
  },
  {
   "cell_type": "code",
   "execution_count": 6,
   "metadata": {},
   "outputs": [
    {
     "name": "stdout",
     "output_type": "stream",
     "text": [
      "dev.txt   test.txt  train.txt\n",
      "dev.txt   test.txt  train.txt\n"
     ]
    }
   ],
   "source": [
    "# List files inside the PubMed_20k dataset\n",
    "!ls data/pubmed-rct/pubmed_20k_rct_numbers_replaced_with_at_sign/\n",
    "!ls data/pubmed-rct/pubmed_20k_rct/"
   ]
  },
  {
   "cell_type": "code",
   "execution_count": 7,
   "metadata": {},
   "outputs": [],
   "source": [
    "# Start with the smaller dataset, with numbers replaced with \"@\" sign\n",
    "data_dir = \"data/pubmed-rct/pubmed_20k_rct_numbers_replaced_with_at_sign/\""
   ]
  },
  {
   "cell_type": "markdown",
   "metadata": {},
   "source": [
    "---\n",
    "<h1 align=\"center\">🤖 Preprocess Data</h3> "
   ]
  },
  {
   "cell_type": "code",
   "execution_count": 4,
   "metadata": {},
   "outputs": [],
   "source": [
    "# Create a function that reads the lines of a document\n",
    "def get_lines(filename):\n",
    "    \"\"\"\n",
    "    Reads filename (a text file) and returns the lines of text as a list.\n",
    "\n",
    "    Args:\n",
    "      filename: a string containing the target filepath to read.\n",
    "\n",
    "    Returns:\n",
    "      A list of strings with one string per line from the target filename.\n",
    "      For example:\n",
    "      [\"this is the first line of filename\",\n",
    "       \"this is the second line of filename\",\n",
    "       \"...\"]\n",
    "    \"\"\"\n",
    "    with open(filename, \"r\") as f:\n",
    "        return f.readlines()"
   ]
  },
  {
   "cell_type": "code",
   "execution_count": 5,
   "metadata": {},
   "outputs": [
    {
     "data": {
      "text/plain": [
       "['###24293578\\n',\n",
       " 'OBJECTIVE\\tTo investigate the efficacy of @ weeks of daily low-dose oral prednisolone in improving pain , mobility , and systemic low-grade inflammation in the short term and whether the effect would be sustained at @ weeks in older adults with moderate to severe knee osteoarthritis ( OA ) .\\n',\n",
       " 'METHODS\\tA total of @ patients with primary knee OA were randomized @:@ ; @ received @ mg/day of prednisolone and @ received placebo for @ weeks .\\n',\n",
       " 'METHODS\\tOutcome measures included pain reduction and improvement in function scores and systemic inflammation markers .\\n',\n",
       " 'METHODS\\tPain was assessed using the visual analog pain scale ( @-@ mm ) .\\n',\n",
       " 'METHODS\\tSecondary outcome measures included the Western Ontario and McMaster Universities Osteoarthritis Index scores , patient global assessment ( PGA ) of the severity of knee OA , and @-min walk distance ( @MWD ) .\\n',\n",
       " 'METHODS\\tSerum levels of interleukin @ ( IL-@ ) , IL-@ , tumor necrosis factor ( TNF ) - , and high-sensitivity C-reactive protein ( hsCRP ) were measured .\\n',\n",
       " 'RESULTS\\tThere was a clinically relevant reduction in the intervention group compared to the placebo group for knee pain , physical function , PGA , and @MWD at @ weeks .\\n',\n",
       " 'RESULTS\\tThe mean difference between treatment arms ( @ % CI ) was @ ( @-@ @ ) , p < @ ; @ ( @-@ @ ) , p < @ ; @ ( @-@ @ ) , p < @ ; and @ ( @-@ @ ) , p < @ , respectively .\\n',\n",
       " 'RESULTS\\tFurther , there was a clinically relevant reduction in the serum levels of IL-@ , IL-@ , TNF - , and hsCRP at @ weeks in the intervention group when compared to the placebo group .\\n']"
      ]
     },
     "execution_count": 5,
     "metadata": {},
     "output_type": "execute_result"
    }
   ],
   "source": [
    "# Read the lines of the training dataset, into a variable\n",
    "train_lines = get_lines(data_dir + \"train.txt\") \n",
    "\n",
    "# Show the first 10 lines\n",
    "train_lines[:10] "
   ]
  },
  {
   "cell_type": "code",
   "execution_count": 6,
   "metadata": {},
   "outputs": [
    {
     "name": "stdout",
     "output_type": "stream",
     "text": [
      "There are 210040 training lines\n"
     ]
    }
   ],
   "source": [
    "print(f'There are {len(train_lines)} training lines')"
   ]
  },
  {
   "cell_type": "markdown",
   "metadata": {
    "tags": []
   },
   "source": [
    "### Dataset Format\n",
    "Load data into python dictionaries, this adds structure to the dataset that the text file doesn't have\n",
    "\n",
    "```\n",
    "[\n",
    "    {\n",
    "        'line_number': 0,\n",
    "        'target': 'BACKGROUND',\n",
    "        'text': 'Emotional eating is associated with overeating and the development of obesity .\\n',\n",
    "        'total_lines': 11\n",
    "    },\n",
    "\n",
    "    # Next instance of data\n",
    "    {\n",
    "        ......\n",
    "    }\n",
    "]\n",
    "```\n",
    "### Define a function to load data into the data structure shown above"
   ]
  },
  {
   "cell_type": "code",
   "execution_count": 7,
   "metadata": {},
   "outputs": [],
   "source": [
    "def preprocess_text(filename):\n",
    "    \"\"\"\n",
    "    Returns a list of dictionaries of abstract line data.\n",
    "\n",
    "    Takes in filename, reads its contents and sorts through each line,\n",
    "    extracting things like the target label, the text of the sentence,\n",
    "    how many sentences are in the current abstract and what sentence number\n",
    "    the target line is.\n",
    "\n",
    "    Args:\n",
    "      filename: a string of the target text file to read and extract line data\n",
    "      from.\n",
    "\n",
    "    Returns:\n",
    "      A list of dictionaries each containing a line from an abstract,\n",
    "      the lines label, the lines position in the abstract and the total number\n",
    "      of lines in the abstract where the line is from. For example:\n",
    "\n",
    "      [{\"target\": 'CONCLUSION',\n",
    "        \"text\": The study couldn't have gone better, turns out people are kinder than you think\",\n",
    "        \"line_number\": 8,\n",
    "        \"total_lines\": 8}]\n",
    "  \"\"\"\n",
    "\n",
    "    input_lines = get_lines(filename)\n",
    "    abstract_lines = \"\" # Create\n",
    "    abstract_samples = []\n",
    "\n",
    "    for line in input_lines:\n",
    "        \n",
    "        if line.startswith(\"###\"): # Check to see if the new line is the ID label\n",
    "            abstract_id = line\n",
    "            abstract_lines = \"\" # Reset the abstract string if the line is the ID\n",
    "\n",
    "        # A space indicates the start of another abstract, so we have to process the current abstract before moving\n",
    "        # a new abstract\n",
    "        elif line.isspace(): # Check if the new line is a space\n",
    "            \n",
    "            # Split the abstract into seperate lines\n",
    "            # the splitlines() function looks for a line break and splits the lines\n",
    "            abstract_line_split = abstract_lines.splitlines() # Returns a list of strings\n",
    "        \n",
    "            # Iterate through each line in the abstract\n",
    "            for abstract_line_number, abstract_line in enumerate(abstract_line_split):\n",
    "                # Populate the dictionary with the line data\n",
    "                abstract_dict = {}\n",
    "\n",
    "                # Splits the target text and text\n",
    "                target_text_split = abstract_line.split('\\t')\n",
    "\n",
    "                # Populate the dictionary\n",
    "                abstract_dict['target'] = target_text_split[0]\n",
    "                abstract_dict['text'] = target_text_split[1].lower()\n",
    "                abstract_dict['line_number'] = abstract_line_number\n",
    "                abstract_dict['total_lines'] = len(abstract_line_split) - 1 # We want to start from 0\n",
    "\n",
    "                abstract_samples.append(abstract_dict)\n",
    "\n",
    "        # If neither of the above two criteria is fulfilled, the line is a target label / text line\n",
    "        # So just append the data into the abstract_lines string\n",
    "        else:\n",
    "            abstract_lines += line\n",
    "        \n",
    "    return abstract_samples"
   ]
  },
  {
   "cell_type": "markdown",
   "metadata": {},
   "source": [
    "### 🖖🏽 Dataset Split"
   ]
  },
  {
   "cell_type": "code",
   "execution_count": 8,
   "metadata": {},
   "outputs": [
    {
     "name": "stdout",
     "output_type": "stream",
     "text": [
      "No. of training samples: 180040 \n",
      "No. of validation samples: 30212 \n",
      "No. of testing samples: 30135\n",
      "CPU times: user 428 ms, sys: 47.3 ms, total: 476 ms\n",
      "Wall time: 475 ms\n"
     ]
    }
   ],
   "source": [
    "%%time\n",
    "\n",
    "# Get the data and preprocess it\n",
    "train_samples = preprocess_text(data_dir + 'train.txt')\n",
    "val_samples = preprocess_text(data_dir + 'dev.txt') # dev is another name for validation\n",
    "test_samples = preprocess_text(data_dir + 'test.txt')\n",
    "print(\"No. of training samples: {} \\nNo. of validation samples: {} \\nNo. of testing samples: {}\"\n",
    "        .format(len(train_samples), len(val_samples), len(test_samples))\n",
    ")"
   ]
  },
  {
   "cell_type": "code",
   "execution_count": 9,
   "metadata": {},
   "outputs": [
    {
     "data": {
      "text/plain": [
       "[{'target': 'OBJECTIVE',\n",
       "  'text': 'to investigate the efficacy of @ weeks of daily low-dose oral prednisolone in improving pain , mobility , and systemic low-grade inflammation in the short term and whether the effect would be sustained at @ weeks in older adults with moderate to severe knee osteoarthritis ( oa ) .',\n",
       "  'line_number': 0,\n",
       "  'total_lines': 11},\n",
       " {'target': 'METHODS',\n",
       "  'text': 'a total of @ patients with primary knee oa were randomized @:@ ; @ received @ mg/day of prednisolone and @ received placebo for @ weeks .',\n",
       "  'line_number': 1,\n",
       "  'total_lines': 11},\n",
       " {'target': 'METHODS',\n",
       "  'text': 'outcome measures included pain reduction and improvement in function scores and systemic inflammation markers .',\n",
       "  'line_number': 2,\n",
       "  'total_lines': 11},\n",
       " {'target': 'METHODS',\n",
       "  'text': 'pain was assessed using the visual analog pain scale ( @-@ mm ) .',\n",
       "  'line_number': 3,\n",
       "  'total_lines': 11},\n",
       " {'target': 'METHODS',\n",
       "  'text': 'secondary outcome measures included the western ontario and mcmaster universities osteoarthritis index scores , patient global assessment ( pga ) of the severity of knee oa , and @-min walk distance ( @mwd ) .',\n",
       "  'line_number': 4,\n",
       "  'total_lines': 11},\n",
       " {'target': 'METHODS',\n",
       "  'text': 'serum levels of interleukin @ ( il-@ ) , il-@ , tumor necrosis factor ( tnf ) - , and high-sensitivity c-reactive protein ( hscrp ) were measured .',\n",
       "  'line_number': 5,\n",
       "  'total_lines': 11},\n",
       " {'target': 'RESULTS',\n",
       "  'text': 'there was a clinically relevant reduction in the intervention group compared to the placebo group for knee pain , physical function , pga , and @mwd at @ weeks .',\n",
       "  'line_number': 6,\n",
       "  'total_lines': 11},\n",
       " {'target': 'RESULTS',\n",
       "  'text': 'the mean difference between treatment arms ( @ % ci ) was @ ( @-@ @ ) , p < @ ; @ ( @-@ @ ) , p < @ ; @ ( @-@ @ ) , p < @ ; and @ ( @-@ @ ) , p < @ , respectively .',\n",
       "  'line_number': 7,\n",
       "  'total_lines': 11},\n",
       " {'target': 'RESULTS',\n",
       "  'text': 'further , there was a clinically relevant reduction in the serum levels of il-@ , il-@ , tnf - , and hscrp at @ weeks in the intervention group when compared to the placebo group .',\n",
       "  'line_number': 8,\n",
       "  'total_lines': 11},\n",
       " {'target': 'RESULTS',\n",
       "  'text': 'these differences remained significant at @ weeks .',\n",
       "  'line_number': 9,\n",
       "  'total_lines': 11},\n",
       " {'target': 'RESULTS',\n",
       "  'text': 'the outcome measures in rheumatology clinical trials-osteoarthritis research society international responder rate was @ % in the intervention group and @ % in the placebo group ( p < @ ) .',\n",
       "  'line_number': 10,\n",
       "  'total_lines': 11},\n",
       " {'target': 'CONCLUSIONS',\n",
       "  'text': 'low-dose oral prednisolone had both a short-term and a longer sustained effect resulting in less knee pain , better physical function , and attenuation of systemic inflammation in older patients with knee oa ( clinicaltrials.gov identifier nct@ ) .',\n",
       "  'line_number': 11,\n",
       "  'total_lines': 11}]"
      ]
     },
     "execution_count": 9,
     "metadata": {},
     "output_type": "execute_result"
    }
   ],
   "source": [
    "train_samples[:12] # Check the lines of the first abstract in the training abstract"
   ]
  },
  {
   "cell_type": "code",
   "execution_count": 10,
   "metadata": {
    "scrolled": true
   },
   "outputs": [
    {
     "data": {
      "text/html": [
       "<div>\n",
       "<style scoped>\n",
       "    .dataframe tbody tr th:only-of-type {\n",
       "        vertical-align: middle;\n",
       "    }\n",
       "\n",
       "    .dataframe tbody tr th {\n",
       "        vertical-align: top;\n",
       "    }\n",
       "\n",
       "    .dataframe thead th {\n",
       "        text-align: right;\n",
       "    }\n",
       "</style>\n",
       "<table border=\"1\" class=\"dataframe\">\n",
       "  <thead>\n",
       "    <tr style=\"text-align: right;\">\n",
       "      <th></th>\n",
       "      <th>target</th>\n",
       "      <th>text</th>\n",
       "      <th>line_number</th>\n",
       "      <th>total_lines</th>\n",
       "    </tr>\n",
       "  </thead>\n",
       "  <tbody>\n",
       "    <tr>\n",
       "      <th>0</th>\n",
       "      <td>OBJECTIVE</td>\n",
       "      <td>to investigate the efficacy of @ weeks of dail...</td>\n",
       "      <td>0</td>\n",
       "      <td>11</td>\n",
       "    </tr>\n",
       "    <tr>\n",
       "      <th>1</th>\n",
       "      <td>METHODS</td>\n",
       "      <td>a total of @ patients with primary knee oa wer...</td>\n",
       "      <td>1</td>\n",
       "      <td>11</td>\n",
       "    </tr>\n",
       "    <tr>\n",
       "      <th>2</th>\n",
       "      <td>METHODS</td>\n",
       "      <td>outcome measures included pain reduction and i...</td>\n",
       "      <td>2</td>\n",
       "      <td>11</td>\n",
       "    </tr>\n",
       "    <tr>\n",
       "      <th>3</th>\n",
       "      <td>METHODS</td>\n",
       "      <td>pain was assessed using the visual analog pain...</td>\n",
       "      <td>3</td>\n",
       "      <td>11</td>\n",
       "    </tr>\n",
       "    <tr>\n",
       "      <th>4</th>\n",
       "      <td>METHODS</td>\n",
       "      <td>secondary outcome measures included the wester...</td>\n",
       "      <td>4</td>\n",
       "      <td>11</td>\n",
       "    </tr>\n",
       "    <tr>\n",
       "      <th>5</th>\n",
       "      <td>METHODS</td>\n",
       "      <td>serum levels of interleukin @ ( il-@ ) , il-@ ...</td>\n",
       "      <td>5</td>\n",
       "      <td>11</td>\n",
       "    </tr>\n",
       "    <tr>\n",
       "      <th>6</th>\n",
       "      <td>RESULTS</td>\n",
       "      <td>there was a clinically relevant reduction in t...</td>\n",
       "      <td>6</td>\n",
       "      <td>11</td>\n",
       "    </tr>\n",
       "    <tr>\n",
       "      <th>7</th>\n",
       "      <td>RESULTS</td>\n",
       "      <td>the mean difference between treatment arms ( @...</td>\n",
       "      <td>7</td>\n",
       "      <td>11</td>\n",
       "    </tr>\n",
       "    <tr>\n",
       "      <th>8</th>\n",
       "      <td>RESULTS</td>\n",
       "      <td>further , there was a clinically relevant redu...</td>\n",
       "      <td>8</td>\n",
       "      <td>11</td>\n",
       "    </tr>\n",
       "    <tr>\n",
       "      <th>9</th>\n",
       "      <td>RESULTS</td>\n",
       "      <td>these differences remained significant at @ we...</td>\n",
       "      <td>9</td>\n",
       "      <td>11</td>\n",
       "    </tr>\n",
       "    <tr>\n",
       "      <th>10</th>\n",
       "      <td>RESULTS</td>\n",
       "      <td>the outcome measures in rheumatology clinical ...</td>\n",
       "      <td>10</td>\n",
       "      <td>11</td>\n",
       "    </tr>\n",
       "    <tr>\n",
       "      <th>11</th>\n",
       "      <td>CONCLUSIONS</td>\n",
       "      <td>low-dose oral prednisolone had both a short-te...</td>\n",
       "      <td>11</td>\n",
       "      <td>11</td>\n",
       "    </tr>\n",
       "    <tr>\n",
       "      <th>12</th>\n",
       "      <td>BACKGROUND</td>\n",
       "      <td>emotional eating is associated with overeating...</td>\n",
       "      <td>0</td>\n",
       "      <td>10</td>\n",
       "    </tr>\n",
       "  </tbody>\n",
       "</table>\n",
       "</div>"
      ],
      "text/plain": [
       "         target                                               text  \\\n",
       "0     OBJECTIVE  to investigate the efficacy of @ weeks of dail...   \n",
       "1       METHODS  a total of @ patients with primary knee oa wer...   \n",
       "2       METHODS  outcome measures included pain reduction and i...   \n",
       "3       METHODS  pain was assessed using the visual analog pain...   \n",
       "4       METHODS  secondary outcome measures included the wester...   \n",
       "5       METHODS  serum levels of interleukin @ ( il-@ ) , il-@ ...   \n",
       "6       RESULTS  there was a clinically relevant reduction in t...   \n",
       "7       RESULTS  the mean difference between treatment arms ( @...   \n",
       "8       RESULTS  further , there was a clinically relevant redu...   \n",
       "9       RESULTS  these differences remained significant at @ we...   \n",
       "10      RESULTS  the outcome measures in rheumatology clinical ...   \n",
       "11  CONCLUSIONS  low-dose oral prednisolone had both a short-te...   \n",
       "12   BACKGROUND  emotional eating is associated with overeating...   \n",
       "\n",
       "    line_number  total_lines  \n",
       "0             0           11  \n",
       "1             1           11  \n",
       "2             2           11  \n",
       "3             3           11  \n",
       "4             4           11  \n",
       "5             5           11  \n",
       "6             6           11  \n",
       "7             7           11  \n",
       "8             8           11  \n",
       "9             9           11  \n",
       "10           10           11  \n",
       "11           11           11  \n",
       "12            0           10  "
      ]
     },
     "execution_count": 10,
     "metadata": {},
     "output_type": "execute_result"
    }
   ],
   "source": [
    "import pandas as pd\n",
    "\n",
    "# Turn dictionaries into pandas DataFrame to better visualize it\n",
    "train_df = pd.DataFrame(train_samples)\n",
    "val_df = pd.DataFrame(val_samples)\n",
    "test_df = pd.DataFrame(test_samples)\n",
    "\n",
    "# Show first 13 lines of data\n",
    "train_df.head(13)"
   ]
  },
  {
   "cell_type": "markdown",
   "metadata": {},
   "source": [
    "---\n",
    "<h1 align=\"center\">👨🏽‍💻 Dataset Analysis</h3> \n"
   ]
  },
  {
   "cell_type": "code",
   "execution_count": 11,
   "metadata": {},
   "outputs": [
    {
     "data": {
      "text/plain": [
       "<AxesSubplot:>"
      ]
     },
     "execution_count": 11,
     "metadata": {},
     "output_type": "execute_result"
    },
    {
     "data": {
      "image/png": "[encoded data removed]",
      "text/plain": [
       "<Figure size 432x288 with 1 Axes>"
      ]
     },
     "metadata": {
      "needs_background": "light"
     },
     "output_type": "display_data"
    }
   ],
   "source": [
    "# Visualize the distribution in training data (according to no. of samples per target)\n",
    "\n",
    "train_df['target'].value_counts().plot(kind='barh')"
   ]
  },
  {
   "cell_type": "code",
   "execution_count": 12,
   "metadata": {
    "scrolled": true
   },
   "outputs": [
    {
     "data": {
      "text/plain": [
       "<AxesSubplot:ylabel='Frequency'>"
      ]
     },
     "execution_count": 12,
     "metadata": {},
     "output_type": "execute_result"
    },
    {
     "data": {
      "image/png": "[encoded data removed]",
      "text/plain": [
       "<Figure size 432x288 with 1 Axes>"
      ]
     },
     "metadata": {
      "needs_background": "light"
     },
     "output_type": "display_data"
    }
   ],
   "source": [
    "# Let's check the distribution of the length of lines\n",
    "train_df['total_lines'].plot.hist()"
   ]
  },
  {
   "cell_type": "markdown",
   "metadata": {},
   "source": [
    "<b>Get list of sentences</b> <br>\n",
    "The main inputs to the deep learning model, would be a list of strings which we can obtain via the function below"
   ]
  },
  {
   "cell_type": "code",
   "execution_count": 13,
   "metadata": {},
   "outputs": [
    {
     "data": {
      "text/plain": [
       "(180040, 30212, 30135)"
      ]
     },
     "execution_count": 13,
     "metadata": {},
     "output_type": "execute_result"
    }
   ],
   "source": [
    "train_sentences = train_df['text'].tolist()\n",
    "val_sentences = val_df['text'].tolist()\n",
    "test_sentences = test_df['text'].tolist()\n",
    "\n",
    "len(train_sentences), len(val_sentences), len(test_sentences),"
   ]
  },
  {
   "cell_type": "code",
   "execution_count": 14,
   "metadata": {},
   "outputs": [
    {
     "data": {
      "text/plain": [
       "['to investigate the efficacy of @ weeks of daily low-dose oral prednisolone in improving pain , mobility , and systemic low-grade inflammation in the short term and whether the effect would be sustained at @ weeks in older adults with moderate to severe knee osteoarthritis ( oa ) .',\n",
       " 'a total of @ patients with primary knee oa were randomized @:@ ; @ received @ mg/day of prednisolone and @ received placebo for @ weeks .',\n",
       " 'outcome measures included pain reduction and improvement in function scores and systemic inflammation markers .',\n",
       " 'pain was assessed using the visual analog pain scale ( @-@ mm ) .',\n",
       " 'secondary outcome measures included the western ontario and mcmaster universities osteoarthritis index scores , patient global assessment ( pga ) of the severity of knee oa , and @-min walk distance ( @mwd ) .',\n",
       " 'serum levels of interleukin @ ( il-@ ) , il-@ , tumor necrosis factor ( tnf ) - , and high-sensitivity c-reactive protein ( hscrp ) were measured .',\n",
       " 'there was a clinically relevant reduction in the intervention group compared to the placebo group for knee pain , physical function , pga , and @mwd at @ weeks .',\n",
       " 'the mean difference between treatment arms ( @ % ci ) was @ ( @-@ @ ) , p < @ ; @ ( @-@ @ ) , p < @ ; @ ( @-@ @ ) , p < @ ; and @ ( @-@ @ ) , p < @ , respectively .',\n",
       " 'further , there was a clinically relevant reduction in the serum levels of il-@ , il-@ , tnf - , and hscrp at @ weeks in the intervention group when compared to the placebo group .',\n",
       " 'these differences remained significant at @ weeks .']"
      ]
     },
     "execution_count": 14,
     "metadata": {},
     "output_type": "execute_result"
    }
   ],
   "source": [
    "train_sentences[:10]"
   ]
  },
  {
   "cell_type": "markdown",
   "metadata": {},
   "source": [
    "---\n",
    "<h1 align=\"center\">🛠 Feature Engineering</h3> \n"
   ]
  },
  {
   "cell_type": "markdown",
   "metadata": {},
   "source": [
    "### Encoding\n",
    "ML models require numeric labels <br>\n",
    "<br>\n",
    "<b>Two methods</b>\n",
    "1. Label Encode (e.g `Methods -- 1, Results -- 2, ...`)\n",
    "2. One-hot encode (e.g `Methods -- [1,0,0,0,0], Results -- [0,1,0,0,0]`)"
   ]
  },
  {
   "cell_type": "markdown",
   "metadata": {},
   "source": [
    "> <b>What does `sparse` mean?</b> <br>\n",
    "A sparse array is one that contains mostly zeros and few non-zero entries\n",
    "\n",
    "> <b>What does `dense` mean?</b> <br>\n",
    "A dense array contains mostly non-zeros"
   ]
  },
  {
   "cell_type": "markdown",
   "metadata": {},
   "source": [
    "### 1️⃣ One-hot encode labels"
   ]
  },
  {
   "cell_type": "code",
   "execution_count": 15,
   "metadata": {},
   "outputs": [],
   "source": [
    "# One-hot encode labels\n",
    "from sklearn.preprocessing import OneHotEncoder\n",
    "\n",
    "one_hot_encoder = OneHotEncoder(sparse = False)\n",
    "train_labels_one_hot = one_hot_encoder.fit_transform(train_df['target'].to_numpy().reshape(-1,1))\n",
    "val_labels_one_hot = one_hot_encoder.transform(val_df['target'].to_numpy().reshape(-1,1))\n",
    "test_labels_one_hot = one_hot_encoder.transform(test_df['target'].to_numpy().reshape(-1,1))\n"
   ]
  },
  {
   "cell_type": "code",
   "execution_count": 16,
   "metadata": {},
   "outputs": [
    {
     "name": "stderr",
     "output_type": "stream",
     "text": [
      "2021-08-19 15:02:17.902469: I tensorflow/core/platform/cpu_feature_guard.cc:142] This TensorFlow binary is optimized with oneAPI Deep Neural Network Library (oneDNN) to use the following CPU instructions in performance-critical operations:  AVX2 FMA\n",
      "To enable them in other operations, rebuild TensorFlow with the appropriate compiler flags.\n"
     ]
    },
    {
     "data": {
      "text/plain": [
       "<tf.Tensor: shape=(180040, 5), dtype=float64, numpy=\n",
       "array([[0., 0., 0., 1., 0.],\n",
       "       [0., 0., 1., 0., 0.],\n",
       "       [0., 0., 1., 0., 0.],\n",
       "       ...,\n",
       "       [0., 0., 0., 0., 1.],\n",
       "       [0., 1., 0., 0., 0.],\n",
       "       [0., 1., 0., 0., 0.]])>"
      ]
     },
     "execution_count": 16,
     "metadata": {},
     "output_type": "execute_result"
    }
   ],
   "source": [
    "import tensorflow as tf\n",
    "tf.constant(train_labels_one_hot)"
   ]
  },
  {
   "cell_type": "markdown",
   "metadata": {},
   "source": [
    "### 2️⃣ Label encode labels"
   ]
  },
  {
   "cell_type": "code",
   "execution_count": 17,
   "metadata": {},
   "outputs": [
    {
     "data": {
      "text/plain": [
       "array([3, 2, 2, ..., 4, 1, 1])"
      ]
     },
     "execution_count": 17,
     "metadata": {},
     "output_type": "execute_result"
    }
   ],
   "source": [
    "from sklearn.preprocessing import LabelEncoder\n",
    "\n",
    "label_encoder = LabelEncoder()\n",
    "\n",
    "train_labels_encoded = label_encoder.fit_transform(train_df[\"target\"].to_numpy())\n",
    "val_labels_encoded = label_encoder.transform(val_df[\"target\"].to_numpy())\n",
    "test_labels_encoded = label_encoder.transform(test_df[\"target\"].to_numpy())\n",
    "\n",
    "train_labels_encoded # These labels are label encoded"
   ]
  },
  {
   "cell_type": "code",
   "execution_count": 18,
   "metadata": {
    "scrolled": true
   },
   "outputs": [
    {
     "data": {
      "text/plain": [
       "(5,\n",
       " array(['BACKGROUND', 'CONCLUSIONS', 'METHODS', 'OBJECTIVE', 'RESULTS'],\n",
       "       dtype=object))"
      ]
     },
     "execution_count": 18,
     "metadata": {},
     "output_type": "execute_result"
    }
   ],
   "source": [
    "# Get class (reverse engineer to get the class names)\n",
    "num_classes = len(label_encoder.classes_)\n",
    "class_names = label_encoder.classes_\n",
    "num_classes, class_names"
   ]
  },
  {
   "cell_type": "markdown",
   "metadata": {},
   "source": [
    "## Starting a series of modelling experiments\n",
    "Trying out different models and seeing which one works best\n",
    "\n",
    "| Experiment | Model Name |\n",
    "| --- | --- |\n",
    "| 0 | TF-IDF Multinomial Naive Bayes Classifier (Baseline) |\n",
    "| 1 | Conv1D with token embeddings |\n",
    "| 2 | TensorFlow Hub Pretrained Feature Extractor |\n",
    "| 3 | Conv1D with character embeddings |\n",
    "| 4 | Pretrained token embeddings (same as 2) + character embeddings (same as 3) |\n",
    "| 5 | Pretrained token embeddings + character embeddings + positional embeddings |"
   ]
  },
  {
   "cell_type": "markdown",
   "metadata": {},
   "source": [
    "---\n",
    "\n",
    "![title](img/model_0.png)"
   ]
  },
  {
   "cell_type": "markdown",
   "metadata": {},
   "source": [
    "<b>Naive Bayes Classifier</b>\n",
    "\n",
    "\n",
    "Bayes Theorem \n",
    "\n",
    "$\n",
    "P(A|B) = \\frac{P(B|A)P(A)}{P(B)}\n",
    "$\n",
    "\n",
    "If any two events are independent, then $P(A,B) = P(A)P(B)$\n",
    "\n",
    "Using the above two concepts, we can reach this result\n",
    "\n",
    "P(y|X) = $\\frac{P(X|y)P(y)}{P(X)}$ where X = (x_1, x_2, ..., x_n)\n",
    "\n",
    "\n",
    "P(y|x_1,...x_n) = $\\frac{P(x_1|y)...P(x_n|y)P(y)}{P(x_1)...P(x_n)}$\n",
    "\n",
    "y = $argmax_yP(y)\\sum_{i=1}^{n}P(x_i|y)$\n",
    "\n",
    "<b>Term Frequency - Inverse Document Frequency</b>\n",
    "\n",
    "Generally used to compute how important/relevant a word is to a certain document. It approaches 0 when it is a common word (e.g 'when', 'the', etc) and 1 when it is unique.\n",
    "\n",
    "# 🏋️‍♀️ Model Training"
   ]
  },
  {
   "cell_type": "code",
   "execution_count": 19,
   "metadata": {},
   "outputs": [],
   "source": [
    "from sklearn.feature_extraction.text import TfidfVectorizer\n",
    "from sklearn.naive_bayes import MultinomialNB\n",
    "from sklearn.pipeline import Pipeline\n",
    "\n",
    "# Create a pipeline\n",
    "model_0 = Pipeline([\n",
    "  (\"tf-idf\", TfidfVectorizer()),\n",
    "  (\"clf\", MultinomialNB())\n",
    "])\n",
    "\n",
    "# Fit the pipeline to the training data\n",
    "model_0.fit(X=train_sentences, \n",
    "            y=train_labels_encoded);"
   ]
  },
  {
   "cell_type": "code",
   "execution_count": 20,
   "metadata": {},
   "outputs": [
    {
     "data": {
      "text/plain": [
       "0.7218323844829869"
      ]
     },
     "execution_count": 20,
     "metadata": {},
     "output_type": "execute_result"
    }
   ],
   "source": [
    "# Evaluate baseline on validation dataset\n",
    "model_0.score(X=val_sentences,\n",
    "              y=val_labels_encoded)"
   ]
  },
  {
   "cell_type": "markdown",
   "metadata": {},
   "source": [
    "# ✍🏽 Model Evaluation\n",
    "### ❌ Cross validation"
   ]
  },
  {
   "cell_type": "code",
   "execution_count": 21,
   "metadata": {},
   "outputs": [
    {
     "name": "stdout",
     "output_type": "stream",
     "text": [
      "[4 1 3 ... 4 4 1]\n",
      "[4 1 2 ... 4 4 0]\n"
     ]
    }
   ],
   "source": [
    "from sklearn.model_selection import cross_val_predict\n",
    "\n",
    "# Make predictions using the Naive Bayes Classifier\n",
    "baseline_preds = model_0.predict(val_sentences)\n",
    "\n",
    "# Make predictions using the K-fold cross validation\n",
    "y_val_preds = cross_val_predict(model_0, val_sentences, val_labels_encoded, cv=3)\n",
    "\n",
    "print(baseline_preds)\n",
    "print(y_val_preds)"
   ]
  },
  {
   "cell_type": "markdown",
   "metadata": {},
   "source": [
    "### 🤔 Confusion Matrix"
   ]
  },
  {
   "cell_type": "code",
   "execution_count": 22,
   "metadata": {},
   "outputs": [
    {
     "data": {
      "text/plain": [
       "array([[1683,  794,  694,   97,  181],\n",
       "       [ 244, 2687,  432,    5, 1214],\n",
       "       [ 116,   75, 8670,    7, 1096],\n",
       "       [ 505,  422,  978,  325,  146],\n",
       "       [  20,  181, 1196,    1, 8443]])"
      ]
     },
     "execution_count": 22,
     "metadata": {},
     "output_type": "execute_result"
    }
   ],
   "source": [
    "from sklearn.metrics import confusion_matrix\n",
    "'''\n",
    "An optimal confusion matrix would be one with non-zero integers in the diagonal (top left to bottom right)\n",
    "\n",
    "1 0 0 0 0\n",
    "0 1 0 0 0\n",
    "0 0 1 0 0\n",
    "0 0 0 1 0\n",
    "0 0 0 0 1\n",
    "'''\n",
    "\n",
    "confusion_matrix(val_labels_encoded, baseline_preds)"
   ]
  },
  {
   "cell_type": "code",
   "execution_count": 23,
   "metadata": {},
   "outputs": [],
   "source": [
    "from sklearn.model_selection import cross_val_predict\n",
    "from sklearn.metrics import confusion_matrix\n",
    "from sklearn.metrics import precision_score, recall_score\n",
    "from sklearn.metrics import f1_score\n",
    "from sklearn.metrics import accuracy_score\n",
    "\n",
    "def calculate_results(y_true, y_pred):\n",
    "    '''\n",
    "    Calculates model accuracy, precision, recall, f1 score of a binary classification model\n",
    "    \n",
    "    Args:\n",
    "        y_true: true labels in the form of a 1D array\n",
    "        y_pred: predicted labels in the form of a 1D array\n",
    "        \n",
    "    Returns:\n",
    "        A dictionary of metrics\n",
    "    '''\n",
    "    \n",
    "    # Calculate the model accuracy\n",
    "    model_accuracy = accuracy_score(y_true, y_pred) * 100\n",
    "    \n",
    "    # Calculate the model precision, recall and f1 score\n",
    "    model_precision = precision_score(y_true, y_pred, average='weighted')\n",
    "    model_recall = recall_score(y_true, y_pred, average='weighted')\n",
    "    model_f1 = f1_score(y_true, y_pred, average='weighted')\n",
    "    \n",
    "    model_results = {\n",
    "        \"accuracy\": model_accuracy,\n",
    "        \"precision\": model_precision,\n",
    "        \"recall\": model_recall,\n",
    "        \"f1\": model_f1\n",
    "    }\n",
    "    return model_results"
   ]
  },
  {
   "cell_type": "markdown",
   "metadata": {},
   "source": [
    "### ⚖️ Metrics"
   ]
  },
  {
   "cell_type": "code",
   "execution_count": 24,
   "metadata": {},
   "outputs": [],
   "source": [
    "# Calculate the baseline results on the validation dataset\n",
    "baseline_results = calculate_results(y_true=val_labels_encoded,\n",
    "                                    y_pred=y_val_preds)"
   ]
  },
  {
   "cell_type": "code",
   "execution_count": 25,
   "metadata": {},
   "outputs": [
    {
     "data": {
      "text/html": [
       "<div>\n",
       "<style scoped>\n",
       "    .dataframe tbody tr th:only-of-type {\n",
       "        vertical-align: middle;\n",
       "    }\n",
       "\n",
       "    .dataframe tbody tr th {\n",
       "        vertical-align: top;\n",
       "    }\n",
       "\n",
       "    .dataframe thead th {\n",
       "        text-align: right;\n",
       "    }\n",
       "</style>\n",
       "<table border=\"1\" class=\"dataframe\">\n",
       "  <thead>\n",
       "    <tr style=\"text-align: right;\">\n",
       "      <th></th>\n",
       "      <th>accuracy</th>\n",
       "      <th>f1</th>\n",
       "      <th>precision</th>\n",
       "      <th>recall</th>\n",
       "    </tr>\n",
       "  </thead>\n",
       "  <tbody>\n",
       "    <tr>\n",
       "      <th>Multinomial Naive Bayes Classifier</th>\n",
       "      <td>66.483516</td>\n",
       "      <td>0.618607</td>\n",
       "      <td>0.668206</td>\n",
       "      <td>0.664835</td>\n",
       "    </tr>\n",
       "  </tbody>\n",
       "</table>\n",
       "</div>"
      ],
      "text/plain": [
       "                                     accuracy        f1  precision    recall\n",
       "Multinomial Naive Bayes Classifier  66.483516  0.618607   0.668206  0.664835"
      ]
     },
     "execution_count": 25,
     "metadata": {},
     "output_type": "execute_result"
    }
   ],
   "source": [
    "all_model_results = pd.DataFrame({\n",
    "    \"Multinomial Naive Bayes Classifier\": baseline_results,\n",
    "})\n",
    "\n",
    "all_model_results = all_model_results.transpose()\n",
    "all_model_results"
   ]
  },
  {
   "cell_type": "markdown",
   "metadata": {},
   "source": [
    "Above are the model results for the <b>baseline model</b>. We aim to beat these results in the upcoming experiments"
   ]
  },
  {
   "cell_type": "markdown",
   "metadata": {},
   "source": [
    "---\n",
    "![title](img/model_1.png)\n",
    "\n",
    "# 👨🏽‍💻 Dataset Analysis\n",
    "\n",
    "\n",
    "### Prepare data for deep sequence modelling\n",
    "In order to train our deep neural networks, we need to preprocess our data in a different way. Namely, tokenization and embedding layers. <br> \n",
    "The following code is to obtain more information about the `training_sentences` so we can create the tokenization layers with appropriate parameters"
   ]
  },
  {
   "cell_type": "markdown",
   "metadata": {},
   "source": [
    "<b>✍🏽Average Sentence length<b>"
   ]
  },
  {
   "cell_type": "code",
   "execution_count": 26,
   "metadata": {},
   "outputs": [],
   "source": [
    "# Import relevant libraries for creating vectorization and embedding layers\n",
    "import numpy as np\n",
    "import tensorflow as tf\n",
    "from tensorflow.keras import layers"
   ]
  },
  {
   "cell_type": "code",
   "execution_count": 27,
   "metadata": {},
   "outputs": [
    {
     "data": {
      "text/plain": [
       "26.338269273494777"
      ]
     },
     "execution_count": 27,
     "metadata": {},
     "output_type": "execute_result"
    }
   ],
   "source": [
    "# If we want to create embedding layers, we need the sentences to be of equal lengths\n",
    "sentence_lengths = [len(sentence.split()) for sentence in train_sentences] # Must use .split() since we only want words\n",
    "avg_sentence_length = np.mean(sentence_lengths)\n",
    "\n",
    "avg_sentence_length"
   ]
  },
  {
   "cell_type": "markdown",
   "metadata": {},
   "source": [
    "<b>📊Visualize the distribution of sentence lengths<b>"
   ]
  },
  {
   "cell_type": "code",
   "execution_count": 28,
   "metadata": {
    "scrolled": true
   },
   "outputs": [
    {
     "data": {
      "image/png": "[encoded data removed]",
      "text/plain": [
       "<Figure size 432x288 with 1 Axes>"
      ]
     },
     "metadata": {
      "needs_background": "light"
     },
     "output_type": "display_data"
    }
   ],
   "source": [
    "# Visualize the distribution of sentence lengths to get a clearer picture\n",
    "import matplotlib.pyplot as plt\n",
    "plt.hist(sentence_lengths, bins=7);"
   ]
  },
  {
   "cell_type": "markdown",
   "metadata": {},
   "source": [
    "Looks like majority of the sentences are between 0 and 50 tokens in length"
   ]
  },
  {
   "cell_type": "code",
   "execution_count": 29,
   "metadata": {},
   "outputs": [
    {
     "data": {
      "text/plain": [
       "55"
      ]
     },
     "execution_count": 29,
     "metadata": {},
     "output_type": "execute_result"
    }
   ],
   "source": [
    "# How long of a sentence covers 95% of the lengths?\n",
    "output_seq_len = int(np.percentile(sentence_lengths, 95))\n",
    "output_seq_len"
   ]
  },
  {
   "cell_type": "markdown",
   "metadata": {},
   "source": [
    "This means that 95% of the sentences have 55 tokens or less. When creating the tokenization layer, we'll use this value to make all sentences the same length. Sentences with lengths below 55 get padded with zeros and those above get truncated."
   ]
  },
  {
   "cell_type": "code",
   "execution_count": 30,
   "metadata": {},
   "outputs": [
    {
     "data": {
      "text/plain": [
       "296"
      ]
     },
     "execution_count": 30,
     "metadata": {},
     "output_type": "execute_result"
    }
   ],
   "source": [
    "# Calculate the maximum length of the sentences\n",
    "max(sentence_lengths)"
   ]
  },
  {
   "cell_type": "markdown",
   "metadata": {},
   "source": [
    "Since 95% of sentences are below 55 tokens in length, it wouldn't make sense to set 296 as the maximum length because then, majority of the data we pass to our model would be zeros (from padding)"
   ]
  },
  {
   "cell_type": "markdown",
   "metadata": {},
   "source": [
    "## Convert sentences into numbers\n",
    "Method 1: <b> Text Vectorizer </b>\n",
    "<br>\n",
    "Method 2: <b> Tokenizer</b>"
   ]
  },
  {
   "cell_type": "markdown",
   "metadata": {},
   "source": [
    "### 1️⃣ Creating a Text vectorizer\n",
    "Using the information from above, the appropriate value for `max_length` is 55."
   ]
  },
  {
   "cell_type": "code",
   "execution_count": 31,
   "metadata": {},
   "outputs": [],
   "source": [
    "# Vocabulary size for the 20k dataset is 68000 according to the paper\n",
    "max_tokens = 68000\n",
    "max_length = 55"
   ]
  },
  {
   "cell_type": "code",
   "execution_count": 32,
   "metadata": {},
   "outputs": [],
   "source": [
    "# Two methods, TextVectorization & Tokenizer\n",
    "from tensorflow.keras.layers.experimental.preprocessing import TextVectorization\n",
    "\n",
    "text_vectorizer = TextVectorization(\n",
    "    max_tokens=max_tokens, # Number of words in vocabulary \n",
    "    output_sequence_length = max_length # Desired output of vectorized sentences\n",
    ")"
   ]
  },
  {
   "cell_type": "code",
   "execution_count": 33,
   "metadata": {},
   "outputs": [],
   "source": [
    "# Adapt textvectorizer to training sentences\n",
    "text_vectorizer.adapt(train_sentences)"
   ]
  },
  {
   "cell_type": "code",
   "execution_count": 34,
   "metadata": {
    "scrolled": true
   },
   "outputs": [
    {
     "name": "stdout",
     "output_type": "stream",
     "text": [
      "Actual Text:\n",
      "similar numbers of subjects in both groups attained an hba@c level of < @ % ( @ vs. @ % ) ; therefore , superiority of glargine over liraglutide was not observed ( p = @ ) .\n",
      "\n",
      "Length of text: 38\n",
      "\n",
      "Vectorized sentence:\n",
      "[[ 150 1516    4  104    5   54   24 5682   26  615  204    4   44  709\n",
      "  1622    4 2578  145 2654   10   31  148   14    0    0    0    0    0\n",
      "     0    0    0    0    0    0    0    0    0    0    0    0    0    0\n",
      "     0    0    0    0    0    0    0    0    0    0    0    0    0]]\n"
     ]
    }
   ],
   "source": [
    "# Testing out the text vectorizer\n",
    "import random\n",
    "\n",
    "random_sentence = random.choice(train_sentences)\n",
    "print(f\"Actual Text:\\n{random_sentence}\\n\")\n",
    "print(f\"Length of text: {len(random_sentence.split())}\\n\")\n",
    "print(f\"Vectorized sentence:\\n{text_vectorizer([random_sentence])}\")"
   ]
  },
  {
   "cell_type": "markdown",
   "metadata": {},
   "source": [
    "Re-run the cell to get different sentences. Notice that shorter sentences get padded with more zeros."
   ]
  },
  {
   "cell_type": "markdown",
   "metadata": {},
   "source": [
    "### Obtain vocab list\n",
    "Obtain vocabulary of the dataset, using the `.get_vocabulary()` method of the text vectorizer"
   ]
  },
  {
   "cell_type": "code",
   "execution_count": 35,
   "metadata": {
    "scrolled": true
   },
   "outputs": [
    {
     "name": "stdout",
     "output_type": "stream",
     "text": [
      "Number of words in vocabulary: 64841\n",
      "\n",
      "Most commmon words in vocabulary: ['', '[UNK]', 'the', 'and', 'of']\n",
      "\n",
      "Least common words in vocabulary: ['aainduced', 'aaigroup', 'aachener', 'aachen', 'aaacp']\n"
     ]
    }
   ],
   "source": [
    "rct_20k_vocab = text_vectorizer.get_vocabulary()\n",
    "\n",
    "# Get the size of the vocabulary\n",
    "print(f\"Number of words in vocabulary: {len(rct_20k_vocab)}\\n\")\n",
    "print(f\"Most commmon words in vocabulary: {rct_20k_vocab[:5]}\\n\")\n",
    "print(f\"Least common words in vocabulary: {rct_20k_vocab[-5:]}\")"
   ]
  },
  {
   "cell_type": "markdown",
   "metadata": {},
   "source": [
    "Get the configuration of the text vectorizer using the `.get_config()` method"
   ]
  },
  {
   "cell_type": "code",
   "execution_count": 36,
   "metadata": {},
   "outputs": [
    {
     "data": {
      "text/plain": [
       "{'name': 'text_vectorization',\n",
       " 'trainable': True,\n",
       " 'dtype': 'string',\n",
       " 'max_tokens': 68000,\n",
       " 'standardize': 'lower_and_strip_punctuation',\n",
       " 'split': 'whitespace',\n",
       " 'ngrams': None,\n",
       " 'output_mode': 'int',\n",
       " 'output_sequence_length': 55,\n",
       " 'pad_to_max_tokens': False,\n",
       " 'vocabulary_size': 64841}"
      ]
     },
     "execution_count": 36,
     "metadata": {},
     "output_type": "execute_result"
    }
   ],
   "source": [
    "text_vectorizer.get_config()"
   ]
  },
  {
   "cell_type": "markdown",
   "metadata": {},
   "source": [
    "### Create text embeddings\n",
    "Earlier, we mapped words to numbers, but this doesn't capture relationships between the numbers. To do this, we can use <b>embeddings</b>"
   ]
  },
  {
   "cell_type": "code",
   "execution_count": 37,
   "metadata": {},
   "outputs": [
    {
     "name": "stdout",
     "output_type": "stream",
     "text": [
      "Sentence before embedding:\n",
      "similar numbers of subjects in both groups attained an hba@c level of < @ % ( @ vs. @ % ) ; therefore , superiority of glargine over liraglutide was not observed ( p = @ ) .\n",
      "\n",
      "Sentence after vectorization (before embedding):\n",
      "[[ 150 1516    4  104    5   54   24 5682   26  615  204    4   44  709\n",
      "  1622    4 2578  145 2654   10   31  148   14    0    0    0    0    0\n",
      "     0    0    0    0    0    0    0    0    0    0    0    0    0    0\n",
      "     0    0    0    0    0    0    0    0    0    0    0    0    0]]\n",
      "\n",
      "Sentence after embedding:\n",
      "[[[ 0.02307271  0.00032489 -0.01866502 ... -0.04965007  0.00624509\n",
      "   -0.04821149]\n",
      "  [ 0.04746575  0.04816638 -0.01914396 ...  0.04209292  0.01153727\n",
      "    0.02278963]\n",
      "  [ 0.02750507  0.02157098 -0.01720276 ...  0.00573365 -0.04924428\n",
      "    0.0248138 ]\n",
      "  ...\n",
      "  [ 0.0371047  -0.00056776 -0.01253436 ...  0.02301976 -0.01017199\n",
      "    0.00038773]\n",
      "  [ 0.0371047  -0.00056776 -0.01253436 ...  0.02301976 -0.01017199\n",
      "    0.00038773]\n",
      "  [ 0.0371047  -0.00056776 -0.01253436 ...  0.02301976 -0.01017199\n",
      "    0.00038773]]]\n",
      "\n",
      "Shape of embedded sentence: (1, 55, 128)\n",
      "\n"
     ]
    }
   ],
   "source": [
    "embedding_dim = 128\n",
    "\n",
    "# Create token embedding layer\n",
    "token_embed = layers.Embedding(input_dim=len(rct_20k_vocab), # length of vocabulary\n",
    "                               output_dim=128, # Note: different embedding sizes result in drastically different numbers of parameters to train\n",
    "                               # Use masking to handle variable sequence lengths (save space)\n",
    "                               mask_zero=True,\n",
    "                               name=\"token_embedding\") \n",
    "\n",
    "# Show an instance of embedding\n",
    "print(f\"Sentence before embedding:\\n{random_sentence}\\n\")\n",
    "\n",
    "vectorized_sentence = text_vectorizer([random_sentence])\n",
    "print(f\"Sentence after vectorization (before embedding):\\n{vectorized_sentence}\\n\")\n",
    "\n",
    "embedded_sentence = token_embed(vectorized_sentence)\n",
    "print(f\"Sentence after embedding:\\n{embedded_sentence}\\n\")\n",
    "print(f\"Shape of embedded sentence: {embedded_sentence.shape}\\n\")"
   ]
  },
  {
   "cell_type": "markdown",
   "metadata": {},
   "source": [
    "### Create datasets (for quick runtime)\n",
    "The tf.data API provides methods that enable faster data loading <br>\n",
    "Create a PrefetchDataset of batches from our data that we have prepared. Use the batch() and prefetch() method, and the tf.data.AUTOTUNE (allow tf to determine the optimal amount of compute to prepare datasets)"
   ]
  },
  {
   "cell_type": "code",
   "execution_count": 38,
   "metadata": {},
   "outputs": [
    {
     "data": {
      "text/plain": [
       "<TensorSliceDataset shapes: ((), (5,)), types: (tf.string, tf.float64)>"
      ]
     },
     "execution_count": 38,
     "metadata": {},
     "output_type": "execute_result"
    }
   ],
   "source": [
    "# Turn our data into TensorFlow Datasets\n",
    "train_dataset = tf.data.Dataset.from_tensor_slices((train_sentences, train_labels_one_hot))\n",
    "valid_dataset = tf.data.Dataset.from_tensor_slices((val_sentences, val_labels_one_hot))\n",
    "test_dataset = tf.data.Dataset.from_tensor_slices((test_sentences, test_labels_one_hot))\n",
    "\n",
    "train_dataset"
   ]
  },
  {
   "cell_type": "code",
   "execution_count": 39,
   "metadata": {
    "scrolled": true
   },
   "outputs": [
    {
     "data": {
      "text/plain": [
       "<PrefetchDataset shapes: ((None,), (None, 5)), types: (tf.string, tf.float64)>"
      ]
     },
     "execution_count": 39,
     "metadata": {},
     "output_type": "execute_result"
    }
   ],
   "source": [
    "# Take the TensorSliceDataset's and turn them into prefetched batches\n",
    "train_dataset = train_dataset.batch(32).prefetch(tf.data.AUTOTUNE)\n",
    "valid_dataset = valid_dataset.batch(32).prefetch(tf.data.AUTOTUNE)\n",
    "test_dataset = test_dataset.batch(32).prefetch(tf.data.AUTOTUNE)\n",
    "\n",
    "train_dataset"
   ]
  },
  {
   "cell_type": "markdown",
   "metadata": {},
   "source": [
    "# 🏋️‍♀️ Model Training\n",
    "\n",
    "The input data to a deep sequence model is different from the one we feeded into a naive bayes model. We need to prepare data in another format\n",
    "> Input (text) ➡ Tokenizer ➡ Embedding ➡ Layers ➡ Output (label probability)\n",
    "\n",
    "After building our model\n",
    "> Build model ➡ Train model ➡ Evaluate model (compare with ground truth and baseline model performance)"
   ]
  },
  {
   "cell_type": "code",
   "execution_count": 40,
   "metadata": {},
   "outputs": [],
   "source": [
    "# Create 1D convolutional model to process sequences\n",
    "inputs = layers.Input(shape=(1,), dtype=tf.string)\n",
    "text_vectors = text_vectorizer(inputs) # vectorize text inputs\n",
    "token_embeddings = token_embed(text_vectors) # create embedding\n",
    "x = layers.Conv1D(64, kernel_size=5, padding=\"same\", activation=\"relu\")(token_embeddings)\n",
    "x = layers.GlobalAveragePooling1D()(x) # condense the output of our feature vector\n",
    "outputs = layers.Dense(num_classes, activation=\"softmax\")(x)\n",
    "model_1 = tf.keras.Model(inputs, outputs)\n",
    "\n",
    "# Compile\n",
    "model_1.compile(loss=\"categorical_crossentropy\", # if your labels are integer form (not one hot) use sparse_categorical_crossentropy\n",
    "                optimizer=tf.keras.optimizers.Adam(),\n",
    "                metrics=[\"accuracy\"])\n"
   ]
  },
  {
   "cell_type": "code",
   "execution_count": 41,
   "metadata": {
    "scrolled": true
   },
   "outputs": [
    {
     "name": "stdout",
     "output_type": "stream",
     "text": [
      "Model: \"model\"\n",
      "_________________________________________________________________\n",
      "Layer (type)                 Output Shape              Param #   \n",
      "=================================================================\n",
      "input_1 (InputLayer)         [(None, 1)]               0         \n",
      "_________________________________________________________________\n",
      "text_vectorization (TextVect (None, 55)                0         \n",
      "_________________________________________________________________\n",
      "token_embedding (Embedding)  (None, 55, 128)           8299648   \n",
      "_________________________________________________________________\n",
      "conv1d (Conv1D)              (None, 55, 64)            41024     \n",
      "_________________________________________________________________\n",
      "global_average_pooling1d (Gl (None, 64)                0         \n",
      "_________________________________________________________________\n",
      "dense (Dense)                (None, 5)                 325       \n",
      "=================================================================\n",
      "Total params: 8,340,997\n",
      "Trainable params: 8,340,997\n",
      "Non-trainable params: 0\n",
      "_________________________________________________________________\n"
     ]
    }
   ],
   "source": [
    "model_1.summary()"
   ]
  },
  {
   "cell_type": "code",
   "execution_count": 42,
   "metadata": {
    "scrolled": true
   },
   "outputs": [
    {
     "name": "stdout",
     "output_type": "stream",
     "text": [
      "Epoch 1/3\n",
      "  1/562 [..............................] - ETA: 5:55 - loss: 1.6033 - accuracy: 0.4062"
     ]
    },
    {
     "name": "stderr",
     "output_type": "stream",
     "text": [
      "2021-08-19 15:02:57.685739: I tensorflow/compiler/mlir/mlir_graph_optimization_pass.cc:176] None of the MLIR Optimization Passes are enabled (registered 2)\n"
     ]
    },
    {
     "name": "stdout",
     "output_type": "stream",
     "text": [
      "562/562 [==============================] - 39s 69ms/step - loss: 0.9094 - accuracy: 0.6427 - val_loss: 0.6809 - val_accuracy: 0.7380\n",
      "Epoch 2/3\n",
      "562/562 [==============================] - 39s 69ms/step - loss: 0.6556 - accuracy: 0.7562 - val_loss: 0.6244 - val_accuracy: 0.7733\n",
      "Epoch 3/3\n",
      "562/562 [==============================] - 41s 73ms/step - loss: 0.6171 - accuracy: 0.7731 - val_loss: 0.5934 - val_accuracy: 0.7889\n"
     ]
    }
   ],
   "source": [
    "# Fit the model\n",
    "model_1_history = model_1.fit(train_dataset,\n",
    "                              steps_per_epoch=int(0.1 * len(train_dataset)), # only fit on 10% of batches for faster training time\n",
    "                              epochs=3,\n",
    "                              validation_data=valid_dataset,\n",
    "                              validation_steps=int(0.1 * len(valid_dataset))) # only validate on 10% of batches"
   ]
  },
  {
   "cell_type": "markdown",
   "metadata": {},
   "source": [
    "# ✍🏽 Model Evaluation\n",
    "### ❌ Cross validation"
   ]
  },
  {
   "cell_type": "code",
   "execution_count": 43,
   "metadata": {},
   "outputs": [
    {
     "name": "stdout",
     "output_type": "stream",
     "text": [
      "945/945 [==============================] - 1s 1ms/step - loss: 0.5965 - accuracy: 0.7867\n"
     ]
    },
    {
     "data": {
      "text/plain": [
       "[0.5964944958686829, 0.7867403626441956]"
      ]
     },
     "execution_count": 43,
     "metadata": {},
     "output_type": "execute_result"
    }
   ],
   "source": [
    "model_1.evaluate(valid_dataset)"
   ]
  },
  {
   "cell_type": "code",
   "execution_count": 44,
   "metadata": {},
   "outputs": [
    {
     "data": {
      "text/plain": [
       "array([[4.3293190e-01, 1.7091839e-01, 8.5026823e-02, 2.8295434e-01,\n",
       "        2.8168542e-02],\n",
       "       [4.3780074e-01, 2.7970335e-01, 1.5791850e-02, 2.5738573e-01,\n",
       "        9.3182931e-03],\n",
       "       [1.3719885e-01, 4.5828419e-03, 1.9495605e-03, 8.5623169e-01,\n",
       "        3.7095964e-05],\n",
       "       ...,\n",
       "       [3.8434709e-06, 5.2270753e-04, 5.5909698e-04, 3.2469800e-06,\n",
       "        9.9891114e-01],\n",
       "       [6.0199898e-02, 4.8245928e-01, 8.7729156e-02, 7.7424981e-02,\n",
       "        2.9218665e-01],\n",
       "       [1.7380898e-01, 6.9639570e-01, 3.2302186e-02, 4.2371180e-02,\n",
       "        5.5121932e-02]], dtype=float32)"
      ]
     },
     "execution_count": 44,
     "metadata": {},
     "output_type": "execute_result"
    }
   ],
   "source": [
    "# Make predictions (our model outputs prediction probabilities for each class)\n",
    "model_1_pred_probs = model_1.predict(valid_dataset)\n",
    "model_1_pred_probs"
   ]
  },
  {
   "cell_type": "code",
   "execution_count": 45,
   "metadata": {
    "scrolled": true
   },
   "outputs": [
    {
     "data": {
      "text/plain": [
       "<tf.Tensor: shape=(30212,), dtype=int64, numpy=array([0, 0, 3, ..., 4, 1, 1])>"
      ]
     },
     "execution_count": 45,
     "metadata": {},
     "output_type": "execute_result"
    }
   ],
   "source": [
    "# Convert these probabilities into classes\n",
    "model_1_preds = tf.argmax(model_1_pred_probs, axis=1)\n",
    "model_1_preds"
   ]
  },
  {
   "cell_type": "markdown",
   "metadata": {},
   "source": [
    "### ⚖️ Metrics"
   ]
  },
  {
   "cell_type": "code",
   "execution_count": 46,
   "metadata": {},
   "outputs": [
    {
     "data": {
      "text/plain": [
       "{'accuracy': 78.67403680656693,\n",
       " 'precision': 0.7833724001477458,\n",
       " 'recall': 0.7867403680656693,\n",
       " 'f1': 0.7841796812321693}"
      ]
     },
     "execution_count": 46,
     "metadata": {},
     "output_type": "execute_result"
    }
   ],
   "source": [
    "model_1_results = calculate_results(y_true=val_labels_encoded,\n",
    "                                   y_pred=model_1_preds)\n",
    "model_1_results"
   ]
  },
  {
   "cell_type": "code",
   "execution_count": 47,
   "metadata": {},
   "outputs": [
    {
     "data": {
      "text/html": [
       "<div>\n",
       "<style scoped>\n",
       "    .dataframe tbody tr th:only-of-type {\n",
       "        vertical-align: middle;\n",
       "    }\n",
       "\n",
       "    .dataframe tbody tr th {\n",
       "        vertical-align: top;\n",
       "    }\n",
       "\n",
       "    .dataframe thead th {\n",
       "        text-align: right;\n",
       "    }\n",
       "</style>\n",
       "<table border=\"1\" class=\"dataframe\">\n",
       "  <thead>\n",
       "    <tr style=\"text-align: right;\">\n",
       "      <th></th>\n",
       "      <th>accuracy</th>\n",
       "      <th>precision</th>\n",
       "      <th>recall</th>\n",
       "      <th>f1</th>\n",
       "    </tr>\n",
       "  </thead>\n",
       "  <tbody>\n",
       "    <tr>\n",
       "      <th>Multinomial Naive Bayes Classifier</th>\n",
       "      <td>66.483516</td>\n",
       "      <td>0.668206</td>\n",
       "      <td>0.664835</td>\n",
       "      <td>0.618607</td>\n",
       "    </tr>\n",
       "    <tr>\n",
       "      <th>Conv1D w/ token embeddings</th>\n",
       "      <td>78.674037</td>\n",
       "      <td>0.783372</td>\n",
       "      <td>0.786740</td>\n",
       "      <td>0.784180</td>\n",
       "    </tr>\n",
       "  </tbody>\n",
       "</table>\n",
       "</div>"
      ],
      "text/plain": [
       "                                     accuracy  precision    recall        f1\n",
       "Multinomial Naive Bayes Classifier  66.483516   0.668206  0.664835  0.618607\n",
       "Conv1D w/ token embeddings          78.674037   0.783372  0.786740  0.784180"
      ]
     },
     "execution_count": 47,
     "metadata": {},
     "output_type": "execute_result"
    }
   ],
   "source": [
    "all_model_results = pd.DataFrame({\n",
    "    \"Multinomial Naive Bayes Classifier\": baseline_results,\n",
    "    \"Conv1D w/ token embeddings\": model_1_results,\n",
    "})\n",
    "\n",
    "all_model_results = all_model_results.transpose()\n",
    "all_model_results"
   ]
  },
  {
   "cell_type": "markdown",
   "metadata": {},
   "source": [
    "---\n",
    "![title](img/model_2.png) \n",
    "\n",
    "\n",
    "Use the pretrained embeddings as a way to initialize token embeddings\n",
    "\n",
    "The tokenizer layer is _missing_, but the Universal Sentence Encoder will take care of the tokenisation for us.\n",
    "\n",
    "# 🏋️‍♀️ Model Training\n",
    "\n",
    "### Use a pretrained embedding layer from TFHub\n",
    "To download the pretrained USE, and use it in our model, we can use `Hub.KerasLayer`.\n",
    "Keep the pre-trained embedding layer(by setting the method `trainable=False` and add a trainable couple of layers on the top to tailor the model outputs to our own data."
   ]
  },
  {
   "cell_type": "code",
   "execution_count": 48,
   "metadata": {},
   "outputs": [],
   "source": [
    "import tensorflow_hub as hub\n",
    "\n",
    "# the model is relatively large, so it may take a while to load\n",
    "universal_sentence_encoder = hub.KerasLayer(\"./universal-sentence-encoder_4\",\n",
    "                                       trainable=False,\n",
    "                                       name=\"universal_sentence_encoder\")"
   ]
  },
  {
   "cell_type": "code",
   "execution_count": 49,
   "metadata": {
    "scrolled": true
   },
   "outputs": [
    {
     "name": "stdout",
     "output_type": "stream",
     "text": [
      "Random training sentence:\n",
      "the program is a valuable resource for providing self-management education to veterans with alcohol dependency and various chronic conditions and needs to be considered in the suite of rehabilitation programs available to defense force personnel , veterans , and their partners .\n",
      "\n",
      "Sentence after embeddding:\n",
      "[[-1.77956615e-02 -6.43751174e-02  1.61680561e-02  7.64669603e-05\n",
      "   2.39757057e-02  5.72259016e-02 -6.31878749e-02  6.84788525e-02\n",
      "  -6.31560385e-02 -6.96508363e-02  7.54488334e-02 -2.76107602e-02\n",
      "  -3.57313603e-02 -1.06902746e-02  2.21720096e-02  1.40562756e-02\n",
      "  -8.40695202e-02  6.01073429e-02 -5.48892207e-02 -6.90753059e-03\n",
      "   2.62834895e-02 -4.40108329e-02  7.20247701e-02 -1.10109197e-02\n",
      "   4.33306359e-02  5.37825115e-02 -7.52400011e-02 -4.57121655e-02\n",
      "   5.76705895e-02 -6.18227944e-02  1.26402709e-04  8.39692429e-02\n",
      "   2.32039876e-02  4.25537005e-02 -4.49495763e-02  5.36131933e-02\n",
      "   3.57809179e-02 -7.51763955e-02 -1.89299453e-02  1.05203809e-02\n",
      "  -4.72997576e-02 -2.66164355e-02 -1.10692121e-02 -7.69856852e-03\n",
      "  -1.70163084e-02  4.12504300e-02  6.37129098e-02 -7.08318641e-03\n",
      "   6.14440031e-02 -2.16831528e-02 -5.56032993e-02 -3.27101834e-02\n",
      "  -1.74379570e-03  5.20010367e-02 -5.82058839e-02  1.55228917e-02\n",
      "  -2.89394781e-02  5.43901995e-02 -3.60649632e-04  1.62162781e-02\n",
      "  -3.85985821e-02  2.42410284e-02 -6.88326312e-03 -2.45702025e-02\n",
      "  -2.10056882e-02 -6.42876774e-02  5.53200170e-02 -7.23382756e-02\n",
      "  -3.29622477e-02 -4.30000573e-02  3.17805707e-02 -3.39534469e-02\n",
      "   4.03072760e-02  5.66596910e-03 -2.51977649e-02  6.06625490e-02\n",
      "  -2.18703952e-02 -7.33420923e-02 -3.30581926e-02  5.88232018e-02\n",
      "  -9.29874182e-03 -3.39798108e-02  4.05615680e-02  1.41661998e-03\n",
      "   2.28010379e-02 -5.08194566e-02 -5.35135828e-02 -8.33848789e-02\n",
      "   2.28730086e-02 -4.94893407e-03  5.37928939e-02 -2.44003311e-02\n",
      "   4.23162729e-02  4.33380641e-02 -6.21078834e-02  7.93782175e-02\n",
      "   1.97089277e-02 -9.26101115e-03 -3.17070000e-02  1.39044914e-02\n",
      "  -2.94654705e-02 -4.38592397e-02 -6.51125386e-02  4.54461910e-02\n",
      "   1.33728264e-02 -3.00332233e-02  3.22591290e-02  4.63071316e-02\n",
      "  -4.31565428e-03  2.59220451e-02 -5.85207716e-02  1.75744649e-02\n",
      "  -6.43322691e-02  5.97070679e-02  1.21568842e-03  2.62540597e-02\n",
      "   4.34879363e-02 -1.84942298e-02 -7.48596340e-02 -4.13291976e-02\n",
      "   5.98741043e-03  5.68175726e-02 -1.95266418e-02  1.10368533e-02\n",
      "  -6.22135736e-02 -1.14581147e-02 -1.94087345e-02  5.17032407e-02\n",
      "   1.88078936e-02 -1.10703092e-02 -5.13920560e-02  7.38426074e-02\n",
      "  -3.26121785e-02 -1.20685052e-03  1.49241351e-02  1.81458518e-02\n",
      "   6.18310235e-02  2.14075390e-03  5.65266050e-03 -1.10311937e-02\n",
      "   7.92926550e-02  4.52825241e-02  3.57873924e-02 -3.73470671e-02\n",
      "  -6.08512899e-04 -3.11034136e-02  4.62550903e-03  6.31757965e-03\n",
      "  -1.82775687e-02 -2.92018037e-02 -6.25207694e-03 -1.35520082e-02\n",
      "   1.30348587e-02 -2.83083115e-02 -5.18191792e-02 -3.45571823e-02\n",
      "   5.30830547e-02  2.65669841e-02  4.70932163e-02  8.20574388e-02\n",
      "   1.03180169e-03 -1.65021904e-02  5.06767370e-02  5.98657914e-02\n",
      "   1.17110331e-02  6.20638765e-02  3.85650322e-02 -7.60670453e-02\n",
      "  -3.70573774e-02 -7.52735659e-02  8.16793740e-03 -7.37116337e-02\n",
      "   6.55071437e-02  4.44424786e-02  7.37193797e-04 -4.68149111e-02\n",
      "   3.06467246e-02 -5.73521629e-02 -6.86071217e-02  5.76504171e-02\n",
      "  -6.13221750e-02  6.37883395e-02  6.48838431e-02  6.77900240e-02\n",
      "   4.32858504e-02 -2.40473286e-03  7.95270279e-02  2.36492790e-02\n",
      "   2.05514319e-02 -2.70076357e-02 -7.26870745e-02  2.73822322e-02\n",
      "  -4.22584377e-02  2.39610523e-02  1.86888035e-02 -8.01559240e-02\n",
      "   6.93103522e-02  4.56212871e-02 -3.39572951e-02  4.26079566e-03\n",
      "   7.37914965e-02  6.03309320e-03 -6.67632893e-02  4.17338908e-02\n",
      "   2.10203007e-02  3.90852727e-02  4.80649695e-02 -7.77799413e-02\n",
      "  -4.01695110e-02 -4.80659902e-02 -3.38197462e-02 -3.97712924e-02\n",
      "  -5.36121577e-02  1.83768142e-02  2.84662619e-02  2.15895823e-03\n",
      "  -8.07066727e-03  4.35407273e-02 -1.30232945e-02 -4.83668707e-02\n",
      "   3.69875738e-03  2.25714557e-02 -6.40515834e-02  1.44538153e-02\n",
      "  -3.23393084e-02 -6.36805594e-02 -2.39103511e-02 -9.42653883e-03\n",
      "   4.05837148e-02  3.97176296e-02  6.73723370e-02 -4.28701453e-02\n",
      "  -3.58738750e-02 -8.58168770e-03 -7.30964243e-02  4.62607294e-02\n",
      "  -6.53056353e-02 -2.12301277e-02 -2.15946939e-02  3.87176895e-03\n",
      "   2.67924666e-02 -5.84328473e-02  5.16678467e-02  1.65460678e-03\n",
      "   2.68850662e-02 -7.14572100e-03 -5.60720712e-02 -3.58612314e-02\n",
      "   3.14488225e-02 -7.12494627e-02  5.61831892e-02  1.23664020e-02\n",
      "   6.40640929e-02  1.83743909e-02 -2.56603360e-02 -6.20939173e-02\n",
      "   2.13121958e-02  5.33707961e-02  6.91979304e-02  8.25757310e-02\n",
      "  -1.52053945e-02  5.14520109e-02  8.23530834e-03 -3.70669141e-02\n",
      "   2.49150712e-02  2.62861047e-02 -3.83298323e-02 -1.15988962e-02\n",
      "  -6.48901537e-02  2.64559891e-02  3.00055780e-02 -1.48188202e-02\n",
      "   5.14912233e-02 -6.57070726e-02  2.72258352e-02 -6.90535083e-02\n",
      "   7.15497211e-02 -1.28560616e-02  2.61741374e-02 -2.93489471e-02\n",
      "   6.53569177e-02 -9.34156589e-03  3.38164158e-02  1.48281595e-02\n",
      "  -1.75023393e-03  1.55387423e-03  2.36768723e-02 -7.50343427e-02\n",
      "  -2.57032458e-02 -4.56262119e-02 -2.14746520e-02 -6.64422475e-03\n",
      "   1.28448969e-02  6.73582479e-02  8.00068155e-02  1.61587484e-02\n",
      "  -5.59319369e-02  7.17035681e-02 -4.60919812e-02 -7.75473416e-02\n",
      "   1.75321922e-02  5.59865125e-02  3.39740627e-02 -1.71006436e-03\n",
      "  -6.61131218e-02  5.57418093e-02 -5.99663407e-02  5.83943054e-02\n",
      "  -2.58908793e-03  1.18227082e-03 -7.98007473e-02  1.49573088e-02\n",
      "  -1.15266945e-02  1.67903826e-02 -1.89172846e-04  1.23127252e-02\n",
      "   7.74118677e-02  4.31503542e-02  7.64875188e-02  4.17201594e-03\n",
      "  -2.98112892e-02 -6.36509573e-03  2.74484442e-03  3.23131084e-02\n",
      "   5.76504730e-02  6.79002926e-02  5.82664870e-02  2.50614397e-02\n",
      "   4.00863364e-02  8.95857718e-03 -6.92298487e-02 -3.70694026e-02\n",
      "  -3.32069285e-02 -2.52754595e-02 -3.88687812e-02 -3.13000493e-02\n",
      "   5.96215501e-02 -6.16583936e-02  5.00941724e-02 -6.83519170e-02\n",
      "  -2.82808244e-02 -1.10376067e-02  5.93636781e-02  4.60991934e-02\n",
      "   4.81455587e-02 -7.25665390e-02  6.31816313e-02  6.19646758e-02\n",
      "  -6.12555258e-02  2.50768531e-02  5.03908508e-02 -1.13052744e-02\n",
      "   6.63579479e-02  7.52914399e-02 -2.07658242e-02 -8.17697421e-02\n",
      "  -3.74847911e-02  4.93498966e-02  7.37549737e-03 -1.35018188e-03\n",
      "  -3.53530869e-02  7.35924691e-02 -2.82552335e-02 -4.78631295e-02\n",
      "  -3.56387487e-03  4.53488529e-03  7.01723695e-02 -3.95500567e-03\n",
      "   6.79762214e-02 -1.85289346e-02 -6.01894259e-02  6.07190058e-02\n",
      "   7.91217107e-03  3.10829338e-02  3.13395709e-02  2.03355085e-02\n",
      "  -4.31723967e-02  1.76003948e-02  6.53982013e-02 -3.79963927e-02\n",
      "  -2.66949162e-02  6.05734289e-02  4.47995998e-02 -5.36488108e-02\n",
      "  -6.57560229e-02  4.14915942e-02 -8.71179439e-03  4.71920483e-02\n",
      "   7.93327540e-02  7.99559206e-02 -1.49896843e-02  3.78736407e-02\n",
      "  -7.35202059e-02 -7.33622089e-02  6.27339855e-02 -3.40039954e-02\n",
      "   9.24745295e-03  3.78363244e-02  1.51311653e-02  4.97047901e-02\n",
      "  -1.31092789e-02  2.07602996e-02  3.01491823e-02  5.17001860e-02\n",
      "   2.95023038e-03  5.28278500e-02  4.86822501e-02 -2.80082449e-02\n",
      "   5.72595149e-02  1.47394780e-02 -7.69718364e-03  4.03164886e-02\n",
      "  -1.63950250e-02  4.49325331e-02  2.26618499e-02 -3.86738405e-02\n",
      "   1.74115151e-02  2.01211907e-02  4.32721451e-02 -5.92469051e-02\n",
      "  -3.94827500e-02  2.28839386e-02  7.26747364e-02  1.12407627e-02\n",
      "  -3.08580766e-03 -2.27915924e-02  7.94879571e-02  7.53234699e-02\n",
      "  -1.27186067e-02 -8.11391696e-03  4.72287275e-02  6.61427528e-02\n",
      "   6.90109134e-02  4.00395840e-02 -4.67168838e-02  5.92801571e-02\n",
      "   5.49950339e-02 -6.14009537e-02 -2.46807467e-02  3.17249857e-02\n",
      "  -1.81358811e-02 -1.10413441e-02  2.96162069e-02  4.22642156e-02\n",
      "  -2.81608533e-02  2.32422329e-03 -9.75171290e-03 -4.49520946e-02\n",
      "  -2.28780415e-02  8.40794237e-04 -5.81719354e-02  3.83316651e-02\n",
      "  -5.62743880e-02 -4.00039181e-02  3.79911624e-02  2.51414292e-02\n",
      "  -3.27840969e-02  6.01117834e-02  4.64290753e-02  5.91707118e-02\n",
      "  -1.68223921e-02 -1.02412719e-02 -5.57917878e-02  1.66135151e-02\n",
      "  -3.54079381e-02 -6.64967224e-02 -5.62607870e-03 -2.06717104e-02\n",
      "  -1.23384334e-02  8.81464593e-03 -7.35355914e-02 -4.54290025e-02\n",
      "  -1.91777088e-02  1.74459293e-02  2.96776518e-02  1.40357427e-02\n",
      "   6.25078082e-02 -5.31005934e-02 -3.56405713e-02 -2.69342996e-02\n",
      "   2.24695560e-02  5.53439893e-02  1.36049939e-02 -1.58659350e-02\n",
      "  -6.11223951e-02 -3.92591245e-02  3.27955745e-02  7.28407651e-02\n",
      "   6.75478429e-02 -5.61285391e-02  5.89889139e-02 -2.00006999e-02\n",
      "  -5.68836331e-02  3.07342391e-02  6.28598854e-02 -1.90826990e-02\n",
      "   7.14269234e-03 -5.12210391e-02  5.99224493e-02  6.07553571e-02\n",
      "  -3.93572971e-02 -6.30921945e-02  1.72983203e-02 -8.04263055e-02\n",
      "   2.04435252e-02 -8.06185082e-02 -2.51612142e-02 -2.88040731e-02\n",
      "   1.77008063e-02 -1.15734972e-02  2.71952488e-02 -1.42819788e-02]]\n",
      "\n",
      "Length of sentence after embeddding:\n",
      "512\n",
      "\n"
     ]
    }
   ],
   "source": [
    "# Test the layer\n",
    "random_sentence = random.choice(train_sentences)\n",
    "print(f\"Random training sentence:\\n{random_sentence}\\n\")\n",
    "\n",
    "embedded_sentence = universal_sentence_encoder([random_sentence])\n",
    "print(f\"Sentence after embeddding:\\n{embedded_sentence}\\n\")\n",
    "\n",
    "print(f\"Length of sentence after embeddding:\\n{len(embedded_sentence[0])}\\n\")"
   ]
  },
  {
   "cell_type": "code",
   "execution_count": 50,
   "metadata": {},
   "outputs": [
    {
     "name": "stdout",
     "output_type": "stream",
     "text": [
      "Model: \"model_1\"\n",
      "_________________________________________________________________\n",
      "Layer (type)                 Output Shape              Param #   \n",
      "=================================================================\n",
      "input_2 (InputLayer)         [(None,)]                 0         \n",
      "_________________________________________________________________\n",
      "universal_sentence_encoder ( (None, 512)               256797824 \n",
      "_________________________________________________________________\n",
      "dense_1 (Dense)              (None, 128)               65664     \n",
      "_________________________________________________________________\n",
      "dense_2 (Dense)              (None, 5)                 645       \n",
      "=================================================================\n",
      "Total params: 256,864,133\n",
      "Trainable params: 66,309\n",
      "Non-trainable params: 256,797,824\n",
      "_________________________________________________________________\n"
     ]
    }
   ],
   "source": [
    "# Build a model around the tf_hub_embedding_layer\n",
    "inputs = layers.Input(shape=[], dtype=tf.string)\n",
    "\n",
    "# Tokenize and embedding layer\n",
    "pretrained_embedding_layer = universal_sentence_encoder(inputs)\n",
    "\n",
    "# Dense layer\n",
    "x = layers.Dense(128, activation='relu')(pretrained_embedding_layer)\n",
    "\n",
    "# Output layer\n",
    "outputs = layers.Dense(num_classes, activation='softmax')(x)\n",
    "\n",
    "# Create the model\n",
    "model_2 = tf.keras.Model(inputs=inputs,\n",
    "                        outputs=outputs)\n",
    "\n",
    "# Compile the model\n",
    "model_2.compile(loss=\"categorical_crossentropy\",\n",
    "                optimizer=tf.keras.optimizers.Adam(),\n",
    "                metrics=[\"accuracy\"])\n",
    "\n",
    "# Print the model summary\n",
    "model_2.summary()"
   ]
  },
  {
   "cell_type": "markdown",
   "metadata": {},
   "source": [
    "Looking at the summary, most of the parameters are non-trainable, this is because we set `trainable=False` when initializing the Universal Sentence Encoder (USE)"
   ]
  },
  {
   "cell_type": "code",
   "execution_count": 51,
   "metadata": {
    "scrolled": true
   },
   "outputs": [
    {
     "name": "stdout",
     "output_type": "stream",
     "text": [
      "Epoch 1/3\n",
      "562/562 [==============================] - 6s 7ms/step - loss: 0.9151 - accuracy: 0.6530 - val_loss: 0.7972 - val_accuracy: 0.6872\n",
      "Epoch 2/3\n",
      "562/562 [==============================] - 4s 7ms/step - loss: 0.7684 - accuracy: 0.7020 - val_loss: 0.7540 - val_accuracy: 0.7064\n",
      "Epoch 3/3\n",
      "562/562 [==============================] - 4s 7ms/step - loss: 0.7517 - accuracy: 0.7130 - val_loss: 0.7381 - val_accuracy: 0.7128\n"
     ]
    }
   ],
   "source": [
    "model_2_history = model_2.fit(train_dataset,\n",
    "                             steps_per_epoch=int(0.1 * len(train_dataset)),\n",
    "                             epochs=3,\n",
    "                             validation_data=valid_dataset,\n",
    "                             validation_steps=int(0.1 * len(valid_dataset)))"
   ]
  },
  {
   "cell_type": "markdown",
   "metadata": {},
   "source": [
    "# ✍🏽 Model Evaluation"
   ]
  },
  {
   "cell_type": "code",
   "execution_count": 52,
   "metadata": {
    "scrolled": true
   },
   "outputs": [
    {
     "name": "stdout",
     "output_type": "stream",
     "text": [
      "945/945 [==============================] - 6s 6ms/step - loss: 0.7397 - accuracy: 0.7141\n"
     ]
    },
    {
     "data": {
      "text/plain": [
       "[0.7397187948226929, 0.7140871286392212]"
      ]
     },
     "execution_count": 52,
     "metadata": {},
     "output_type": "execute_result"
    }
   ],
   "source": [
    "model_2.evaluate(valid_dataset)"
   ]
  },
  {
   "cell_type": "code",
   "execution_count": 53,
   "metadata": {},
   "outputs": [
    {
     "data": {
      "text/plain": [
       "array([[4.5466399e-01, 3.4523883e-01, 2.9420417e-03, 1.8734315e-01,\n",
       "        9.8119564e-03],\n",
       "       [3.3712107e-01, 5.2283871e-01, 3.4632469e-03, 1.3313690e-01,\n",
       "        3.4400418e-03],\n",
       "       [2.5516075e-01, 1.2517096e-01, 2.1010293e-02, 5.5794674e-01,\n",
       "        4.0711280e-02],\n",
       "       ...,\n",
       "       [1.8588409e-03, 5.5195787e-03, 5.4941434e-02, 9.1195642e-04,\n",
       "        9.3676817e-01],\n",
       "       [3.5033091e-03, 5.5767205e-02, 1.9091217e-01, 1.2638035e-03,\n",
       "        7.4855351e-01],\n",
       "       [1.7879766e-01, 2.3538117e-01, 5.1475650e-01, 8.0368286e-03,\n",
       "        6.3027896e-02]], dtype=float32)"
      ]
     },
     "execution_count": 53,
     "metadata": {},
     "output_type": "execute_result"
    }
   ],
   "source": [
    "# MAKE PREDICTIONS WITH THE NEWLY TRAINED MODEL\n",
    "\n",
    "model_2_pred_probs = model_2.predict(valid_dataset)\n",
    "model_2_pred_probs"
   ]
  },
  {
   "cell_type": "code",
   "execution_count": 54,
   "metadata": {},
   "outputs": [
    {
     "data": {
      "text/plain": [
       "<tf.Tensor: shape=(30212,), dtype=int64, numpy=array([0, 1, 3, ..., 4, 4, 2])>"
      ]
     },
     "execution_count": 54,
     "metadata": {},
     "output_type": "execute_result"
    }
   ],
   "source": [
    "# Convert the predictions into labels\n",
    "\n",
    "# Use axis=1 to get argmax of lists in the second axis. If axis=0 is used, indexes of the list containing the largest value for each axis will be returned\n",
    "model_2_preds = tf.argmax(model_2_pred_probs, axis=1) # axis=0 by default\n",
    "model_2_preds"
   ]
  },
  {
   "cell_type": "code",
   "execution_count": 55,
   "metadata": {
    "scrolled": true
   },
   "outputs": [],
   "source": [
    "model_2_results = calculate_results(y_true=val_labels_encoded,\n",
    "                                   y_pred=model_2_preds)"
   ]
  },
  {
   "cell_type": "markdown",
   "metadata": {},
   "source": [
    "### Compare the model results so far"
   ]
  },
  {
   "cell_type": "code",
   "execution_count": 56,
   "metadata": {},
   "outputs": [
    {
     "data": {
      "text/html": [
       "<div>\n",
       "<style scoped>\n",
       "    .dataframe tbody tr th:only-of-type {\n",
       "        vertical-align: middle;\n",
       "    }\n",
       "\n",
       "    .dataframe tbody tr th {\n",
       "        vertical-align: top;\n",
       "    }\n",
       "\n",
       "    .dataframe thead th {\n",
       "        text-align: right;\n",
       "    }\n",
       "</style>\n",
       "<table border=\"1\" class=\"dataframe\">\n",
       "  <thead>\n",
       "    <tr style=\"text-align: right;\">\n",
       "      <th></th>\n",
       "      <th>accuracy</th>\n",
       "      <th>precision</th>\n",
       "      <th>recall</th>\n",
       "      <th>f1</th>\n",
       "    </tr>\n",
       "  </thead>\n",
       "  <tbody>\n",
       "    <tr>\n",
       "      <th>baseline</th>\n",
       "      <td>66.483516</td>\n",
       "      <td>0.668206</td>\n",
       "      <td>0.664835</td>\n",
       "      <td>0.618607</td>\n",
       "    </tr>\n",
       "    <tr>\n",
       "      <th>custom_token_embedding</th>\n",
       "      <td>78.674037</td>\n",
       "      <td>0.783372</td>\n",
       "      <td>0.786740</td>\n",
       "      <td>0.784180</td>\n",
       "    </tr>\n",
       "    <tr>\n",
       "      <th>pretrained token embedding layer</th>\n",
       "      <td>71.408712</td>\n",
       "      <td>0.714759</td>\n",
       "      <td>0.714087</td>\n",
       "      <td>0.711240</td>\n",
       "    </tr>\n",
       "  </tbody>\n",
       "</table>\n",
       "</div>"
      ],
      "text/plain": [
       "                                   accuracy  precision    recall        f1\n",
       "baseline                          66.483516   0.668206  0.664835  0.618607\n",
       "custom_token_embedding            78.674037   0.783372  0.786740  0.784180\n",
       "pretrained token embedding layer  71.408712   0.714759  0.714087  0.711240"
      ]
     },
     "execution_count": 56,
     "metadata": {},
     "output_type": "execute_result"
    }
   ],
   "source": [
    "all_model_results = pd.DataFrame({\n",
    "    \"baseline\": baseline_results,\n",
    "    \"custom_token_embedding\": model_1_results,\n",
    "    \"pretrained token embedding layer\": model_2_results\n",
    "})\n",
    "\n",
    "all_model_results = all_model_results.transpose()\n",
    "all_model_results"
   ]
  },
  {
   "cell_type": "markdown",
   "metadata": {},
   "source": [
    "---\n",
    "![title](img/model_3.png) \n",
    "\n",
    "\n",
    "# 👨🏽‍💻 Dataset Analysis"
   ]
  },
  {
   "cell_type": "code",
   "execution_count": 57,
   "metadata": {
    "scrolled": true
   },
   "outputs": [
    {
     "data": {
      "text/plain": [
       "'t h e   p r o g r a m   i s   a   v a l u a b l e   r e s o u r c e   f o r   p r o v i d i n g   s e l f - m a n a g e m e n t   e d u c a t i o n   t o   v e t e r a n s   w i t h   a l c o h o l   d e p e n d e n c y   a n d   v a r i o u s   c h r o n i c   c o n d i t i o n s   a n d   n e e d s   t o   b e   c o n s i d e r e d   i n   t h e   s u i t e   o f   r e h a b i l i t a t i o n   p r o g r a m s   a v a i l a b l e   t o   d e f e n s e   f o r c e   p e r s o n n e l   ,   v e t e r a n s   ,   a n d   t h e i r   p a r t n e r s   .'"
      ]
     },
     "execution_count": 57,
     "metadata": {},
     "output_type": "execute_result"
    }
   ],
   "source": [
    "# Define a helper function to split the sentences into characters\n",
    "def split_chars(text):\n",
    "    return \" \".join(list(text))\n",
    "\n",
    "# Test out the function\n",
    "split_chars(random_sentence)"
   ]
  },
  {
   "cell_type": "code",
   "execution_count": 58,
   "metadata": {
    "jupyter": {
     "outputs_hidden": true
    }
   },
   "outputs": [
    {
     "name": "stdout",
     "output_type": "stream",
     "text": [
      "t o   i n v e s t i g a t e   t h e   e f f i c a c y   o f   @   w e e k s   o f   d a i l y   l o w - d o s e   o r a l   p r e d n i s o l o n e   i n   i m p r o v i n g   p a i n   ,   m o b i l i t y   ,   a n d   s y s t e m i c   l o w - g r a d e   i n f l a m m a t i o n   i n   t h e   s h o r t   t e r m   a n d   w h e t h e r   t h e   e f f e c t   w o u l d   b e   s u s t a i n e d   a t   @   w e e k s   i n   o l d e r   a d u l t s   w i t h   m o d e r a t e   t o   s e v e r e   k n e e   o s t e o a r t h r i t i s   (   o a   )   .\n"
     ]
    }
   ],
   "source": [
    "# Split sentence into character-level split data \n",
    "train_chars = [split_chars(sentence) for sentence in train_sentences]\n",
    "val_chars = [split_chars(sentence) for sentence in val_sentences]\n",
    "test_chars = [split_chars(sentence) for sentence in test_sentences]\n",
    "\n",
    "print(train_chars[0])"
   ]
  },
  {
   "cell_type": "code",
   "execution_count": 59,
   "metadata": {},
   "outputs": [
    {
     "data": {
      "text/plain": [
       "149.3662574983337"
      ]
     },
     "execution_count": 59,
     "metadata": {},
     "output_type": "execute_result"
    }
   ],
   "source": [
    "# What's the average character length\n",
    "char_lengths = [len(sentence) for sentence in train_sentences] # Unlike the token-level split data, don't use the .split() method as we want number of characters\n",
    "mean_char_length = np.mean(char_lengths)\n",
    "\n",
    "mean_char_length"
   ]
  },
  {
   "cell_type": "code",
   "execution_count": 60,
   "metadata": {
    "scrolled": true
   },
   "outputs": [
    {
     "data": {
      "image/png": "[encoded data removed]",
      "text/plain": [
       "<Figure size 432x288 with 1 Axes>"
      ]
     },
     "metadata": {
      "needs_background": "light"
     },
     "output_type": "display_data"
    }
   ],
   "source": [
    "# Check the distribution of our sequences at character-level\n",
    "import matplotlib.pyplot as plt\n",
    "plt.hist(char_lengths, bins=7);"
   ]
  },
  {
   "cell_type": "markdown",
   "metadata": {},
   "source": [
    "Looks like majority of the sequences are between 0 and 200 characters long.\n",
    "\n",
    "Find out the 95th percentile of sequence lengths"
   ]
  },
  {
   "cell_type": "code",
   "execution_count": 61,
   "metadata": {},
   "outputs": [
    {
     "data": {
      "text/plain": [
       "290"
      ]
     },
     "execution_count": 61,
     "metadata": {},
     "output_type": "execute_result"
    }
   ],
   "source": [
    "output_seq_char_length = int(np.percentile(char_lengths,95))\n",
    "output_seq_char_length"
   ]
  },
  {
   "cell_type": "markdown",
   "metadata": {},
   "source": [
    "Now that we have the optimal output sequence length, we need to find the value of max_tokens, and other parameters"
   ]
  },
  {
   "cell_type": "code",
   "execution_count": 62,
   "metadata": {
    "scrolled": true
   },
   "outputs": [
    {
     "data": {
      "text/plain": [
       "'abcdefghijklmnopqrstuvwxyz0123456789!\"#$%&\\'()*+,-./:;<=>?@[\\\\]^_`{|}~'"
      ]
     },
     "execution_count": 62,
     "metadata": {},
     "output_type": "execute_result"
    }
   ],
   "source": [
    "# Get all the keyboard characters for character level embedding\n",
    "import string\n",
    "\n",
    "alphabet = string.ascii_lowercase + string.digits + string.punctuation\n",
    "alphabet"
   ]
  },
  {
   "cell_type": "code",
   "execution_count": 63,
   "metadata": {},
   "outputs": [],
   "source": [
    "# Create a character level token vectorizer instance\n",
    "max_tokens = len(alphabet)\n",
    "\n",
    "char_vectorizer = TextVectorization(max_tokens=max_tokens,\n",
    "                                   output_sequence_length=output_seq_char_length,\n",
    "                                   standardize='lower_and_strip_punctuation',\n",
    "                                   name='char_vectorizer')\n",
    "\n",
    "# Adapt the training data to the char-level vectorizer\n",
    "char_vectorizer.adapt(train_chars)"
   ]
  },
  {
   "cell_type": "markdown",
   "metadata": {},
   "source": [
    "After adapting the vectorizer to the char-level vectorizer, let's check some charateristics about it and obtain the vocabulary"
   ]
  },
  {
   "cell_type": "code",
   "execution_count": 64,
   "metadata": {},
   "outputs": [
    {
     "name": "stdout",
     "output_type": "stream",
     "text": [
      "Number of unique characters in the vocabulary:\n",
      "28\n",
      "\n",
      "Least commmon characters:\n",
      "['k', 'x', 'z', 'q', 'j']\n",
      "\n",
      "Most common characters:\n",
      "['', '[UNK]', 'e', 't', 'i']\n",
      "\n"
     ]
    }
   ],
   "source": [
    "char_vocab = char_vectorizer.get_vocabulary()\n",
    "\n",
    "print(f\"Number of unique characters in the vocabulary:\\n{len(char_vocab)}\\n\")\n",
    "print(f\"Least commmon characters:\\n{char_vocab[-5:]}\\n\")\n",
    "print(f\"Most common characters:\\n{char_vocab[:5]}\\n\")"
   ]
  },
  {
   "cell_type": "markdown",
   "metadata": {},
   "source": [
    "Let's test it on random sentences"
   ]
  },
  {
   "cell_type": "code",
   "execution_count": 65,
   "metadata": {},
   "outputs": [
    {
     "name": "stdout",
     "output_type": "stream",
     "text": [
      "Text that is split at character-level:\n",
      "t o   e v a l u a t e   k n o w l e d g e   u p t a k e   f r o m   a   p a r e n t - d i r e c t e d   f a c t s h e e t   a b o u t   m a n a g i n g   p a i n   d u r i n g   i n f a n t   v a c c i n a t i o n s   ,   a n d   t h e   a d d e d   i n f l u e n c e   o f   a   p r e t e s t   .\n",
      "\n",
      "Length of character sequence:\n",
      "127\n",
      "\n",
      "Vectorized character sequence:\n",
      "[[ 3  7  2 21  5 12 16  5  3  2 23  6  7 20 12  2 10 18  2 16 14  3  5 23\n",
      "   2 17  8  7 15  5 14  5  8  2  6  3 10  4  8  2 11  3  2 10 17  5 11  3\n",
      "   9 13  2  2  3  5 22  7 16  3 15  5  6  5 18  4  6 18 14  5  4  6 10 16\n",
      "   8  4  6 18  4  6 17  5  6  3 21  5 11 11  4  6  5  3  4  7  6  9  5  6\n",
      "  10  3 13  2  5 10 10  2 10  4  6 17 12 16  2  6 11  2  7 17  5 14  8  2\n",
      "   3  2  9  3  0  0  0  0  0  0  0  0  0  0  0  0  0  0  0  0  0  0  0  0\n",
      "   0  0  0  0  0  0  0  0  0  0  0  0  0  0  0  0  0  0  0  0  0  0  0  0\n",
      "   0  0  0  0  0  0  0  0  0  0  0  0  0  0  0  0  0  0  0  0  0  0  0  0\n",
      "   0  0  0  0  0  0  0  0  0  0  0  0  0  0  0  0  0  0  0  0  0  0  0  0\n",
      "   0  0  0  0  0  0  0  0  0  0  0  0  0  0  0  0  0  0  0  0  0  0  0  0\n",
      "   0  0  0  0  0  0  0  0  0  0  0  0  0  0  0  0  0  0  0  0  0  0  0  0\n",
      "   0  0  0  0  0  0  0  0  0  0  0  0  0  0  0  0  0  0  0  0  0  0  0  0\n",
      "   0  0]]\n",
      "\n",
      "Length of vectorized character sequences(after padding):\n",
      "290\n"
     ]
    }
   ],
   "source": [
    "random_train_chars = random.choice(train_chars)\n",
    "\n",
    "print(f\"Text that is split at character-level:\\n{random_train_chars}\\n\")\n",
    "print(f\"Length of character sequence:\\n{len(random_train_chars.split())}\\n\")\n",
    "\n",
    "vectorized_chars = char_vectorizer([random_train_chars])\n",
    "print(f\"Vectorized character sequence:\\n{vectorized_chars}\\n\")\n",
    "print(f\"Length of vectorized character sequences(after padding):\\n{len(vectorized_chars[0])}\") # Access the zeroth index because of the double nested list"
   ]
  },
  {
   "cell_type": "markdown",
   "metadata": {},
   "source": [
    "Sequences that are shorter than 290 characters in length are <b>padded</b> while those that are longer get truncated, ensuring that all sequences passed into the model are equal in length. \n",
    "\n",
    "The `standardize` parameter being set to `lower_and_strip_punctuation` and the split function ensures that punctuation, symbols and whitespaces are removed during the vectorization process"
   ]
  },
  {
   "cell_type": "markdown",
   "metadata": {},
   "source": [
    "### Create character-level embeddings"
   ]
  },
  {
   "cell_type": "code",
   "execution_count": 66,
   "metadata": {
    "scrolled": true
   },
   "outputs": [
    {
     "name": "stdout",
     "output_type": "stream",
     "text": [
      "Character-level text(before embedding and vectorization):\n",
      "t o   e v a l u a t e   k n o w l e d g e   u p t a k e   f r o m   a   p a r e n t - d i r e c t e d   f a c t s h e e t   a b o u t   m a n a g i n g   p a i n   d u r i n g   i n f a n t   v a c c i n a t i o n s   ,   a n d   t h e   a d d e d   i n f l u e n c e   o f   a   p r e t e s t   .\n",
      "\n",
      "Embedded Characters (after vectorization and embedding):\n",
      "[[[-0.03435736 -0.02240083  0.01348933 ...  0.02751119 -0.03335851\n",
      "    0.03025068]\n",
      "  [-0.02248063  0.03764668  0.0016242  ... -0.04203231  0.03382835\n",
      "   -0.01310585]\n",
      "  [-0.0101815   0.02311272  0.04341078 ... -0.02488264  0.04253242\n",
      "    0.00575849]\n",
      "  ...\n",
      "  [ 0.00456481 -0.01292833  0.00158495 ...  0.03277976  0.04779849\n",
      "    0.0227989 ]\n",
      "  [ 0.00456481 -0.01292833  0.00158495 ...  0.03277976  0.04779849\n",
      "    0.0227989 ]\n",
      "  [ 0.00456481 -0.01292833  0.00158495 ...  0.03277976  0.04779849\n",
      "    0.0227989 ]]]\n",
      "\n",
      "Character-embedded shape: (1, 290, 25)\n",
      "\n"
     ]
    }
   ],
   "source": [
    "char_embed = layers.Embedding(input_dim=max_tokens,\n",
    "                             output_dim=25,\n",
    "                             mask_zero=True,\n",
    "                             name='char_embed')\n",
    "\n",
    "# Test out the character embedding layer\n",
    "print(f\"Character-level text(before embedding and vectorization):\\n{random_train_chars}\\n\")\n",
    "\n",
    "random_char_embed = char_embed(char_vectorizer([random_train_chars]))\n",
    "print(f\"Embedded Characters (after vectorization and embedding):\\n{random_char_embed}\\n\")\n",
    "print(f\"Character-embedded shape: {random_char_embed.shape}\\n\")"
   ]
  },
  {
   "cell_type": "markdown",
   "metadata": {},
   "source": [
    "Basically, for one sentence, there are 290 characters, and each character has 25 dimensions, as stated in the `output_dim` method.\n",
    "\n",
    "# 🏋️‍♀️ Model Training"
   ]
  },
  {
   "cell_type": "code",
   "execution_count": 67,
   "metadata": {},
   "outputs": [
    {
     "name": "stdout",
     "output_type": "stream",
     "text": [
      "Model: \"model_3_conv1d_char_embedding\"\n",
      "_________________________________________________________________\n",
      "Layer (type)                 Output Shape              Param #   \n",
      "=================================================================\n",
      "input_3 (InputLayer)         [(None, 1)]               0         \n",
      "_________________________________________________________________\n",
      "char_vectorizer (TextVectori (None, 290)               0         \n",
      "_________________________________________________________________\n",
      "char_embed (Embedding)       (None, 290, 25)           1700      \n",
      "_________________________________________________________________\n",
      "conv1d_1 (Conv1D)            (None, 290, 64)           8064      \n",
      "_________________________________________________________________\n",
      "global_max_pooling1d (Global (None, 64)                0         \n",
      "_________________________________________________________________\n",
      "dense_3 (Dense)              (None, 5)                 325       \n",
      "=================================================================\n",
      "Total params: 10,089\n",
      "Trainable params: 10,089\n",
      "Non-trainable params: 0\n",
      "_________________________________________________________________\n"
     ]
    }
   ],
   "source": [
    "# Make Conv1D for characters only\n",
    "\n",
    "inputs = layers.Input(shape=(1,), dtype='string')\n",
    "char_vectors = char_vectorizer(inputs)\n",
    "char_embeddings = char_embed(char_vectors)\n",
    "x = layers.Conv1D(64, kernel_size=5, padding='same', activation='relu')(char_embeddings)\n",
    "x = layers.GlobalMaxPool1D()(x)\n",
    "outputs = layers.Dense(num_classes, activation='softmax')(x)\n",
    "model_3 = tf.keras.Model(inputs=inputs,\n",
    "                        outputs=outputs,\n",
    "                        name='model_3_conv1d_char_embedding')\n",
    "\n",
    "# Compile the model\n",
    "model_3.compile(loss='categorical_crossentropy',\n",
    "             optimizer=tf.keras.optimizers.Adam(),\n",
    "             metrics=['accuracy'])\n",
    "\n",
    "# Check the summary of the char_embedding model\n",
    "model_3.summary()"
   ]
  },
  {
   "cell_type": "markdown",
   "metadata": {},
   "source": [
    "### Create Char Dataset"
   ]
  },
  {
   "cell_type": "code",
   "execution_count": 68,
   "metadata": {},
   "outputs": [
    {
     "data": {
      "text/plain": [
       "<PrefetchDataset shapes: ((None,), (None, 5)), types: (tf.string, tf.float64)>"
      ]
     },
     "execution_count": 68,
     "metadata": {},
     "output_type": "execute_result"
    }
   ],
   "source": [
    "train_char_dataset = tf.data.Dataset.from_tensor_slices((train_chars, train_labels_one_hot)).batch(32).prefetch(tf.data.AUTOTUNE)\n",
    "val_char_dataset = tf.data.Dataset.from_tensor_slices((val_chars, val_labels_one_hot)).batch(32).prefetch(tf.data.AUTOTUNE)\n",
    "\n",
    "train_char_dataset"
   ]
  },
  {
   "cell_type": "code",
   "execution_count": 69,
   "metadata": {
    "scrolled": false
   },
   "outputs": [
    {
     "name": "stdout",
     "output_type": "stream",
     "text": [
      "Epoch 1/3\n",
      "562/562 [==============================] - 5s 8ms/step - loss: 1.2511 - accuracy: 0.4980 - val_loss: 1.0418 - val_accuracy: 0.5871\n",
      "Epoch 2/3\n",
      "562/562 [==============================] - 5s 9ms/step - loss: 1.0097 - accuracy: 0.5946 - val_loss: 0.9482 - val_accuracy: 0.6227\n",
      "Epoch 3/3\n",
      "562/562 [==============================] - 5s 9ms/step - loss: 0.9399 - accuracy: 0.6277 - val_loss: 0.8848 - val_accuracy: 0.6529\n"
     ]
    }
   ],
   "source": [
    "model_3_history = model_3.fit(train_char_dataset,\n",
    "                             steps_per_epoch = int(0.1 * len(train_char_dataset)),\n",
    "                             epochs=3,\n",
    "                             validation_data = val_char_dataset,\n",
    "                             validation_steps = int(0.1*len(val_char_dataset)))"
   ]
  },
  {
   "cell_type": "markdown",
   "metadata": {},
   "source": [
    "# ✍🏽 Model Evaluation"
   ]
  },
  {
   "cell_type": "code",
   "execution_count": 70,
   "metadata": {
    "scrolled": true
   },
   "outputs": [
    {
     "name": "stdout",
     "output_type": "stream",
     "text": [
      "945/945 [==============================] - 1s 2ms/step - loss: 0.8976 - accuracy: 0.6480\n"
     ]
    },
    {
     "data": {
      "text/plain": [
       "[0.8975564241409302, 0.6479875445365906]"
      ]
     },
     "execution_count": 70,
     "metadata": {},
     "output_type": "execute_result"
    }
   ],
   "source": [
    "model_3.evaluate(val_char_dataset)"
   ]
  },
  {
   "cell_type": "code",
   "execution_count": 71,
   "metadata": {
    "scrolled": true
   },
   "outputs": [
    {
     "data": {
      "text/plain": [
       "array([[0.18550462, 0.3818396 , 0.06581363, 0.33275086, 0.03409134],\n",
       "       [0.08573971, 0.7360124 , 0.01054089, 0.09222941, 0.07547753],\n",
       "       [0.12940826, 0.31110537, 0.22813904, 0.23074937, 0.10059788],\n",
       "       ...,\n",
       "       [0.02368325, 0.02797637, 0.16722247, 0.02594096, 0.755177  ],\n",
       "       [0.04332071, 0.2094358 , 0.22672859, 0.07946207, 0.4410528 ],\n",
       "       [0.33926517, 0.43119842, 0.14373916, 0.0710407 , 0.01475665]],\n",
       "      dtype=float32)"
      ]
     },
     "execution_count": 71,
     "metadata": {},
     "output_type": "execute_result"
    }
   ],
   "source": [
    "model_3_pred_probs = model_3.predict(val_char_dataset)\n",
    "model_3_pred_probs"
   ]
  },
  {
   "cell_type": "code",
   "execution_count": 72,
   "metadata": {},
   "outputs": [
    {
     "data": {
      "text/plain": [
       "<tf.Tensor: shape=(30212,), dtype=int64, numpy=array([1, 1, 1, ..., 4, 4, 1])>"
      ]
     },
     "execution_count": 72,
     "metadata": {},
     "output_type": "execute_result"
    }
   ],
   "source": [
    "model_3_preds = tf.argmax(model_3_pred_probs, axis=1)\n",
    "model_3_preds"
   ]
  },
  {
   "cell_type": "code",
   "execution_count": 73,
   "metadata": {},
   "outputs": [],
   "source": [
    "model_3_results = calculate_results(y_true=val_labels_encoded,\n",
    "                                   y_pred=model_3_preds)"
   ]
  },
  {
   "cell_type": "markdown",
   "metadata": {},
   "source": [
    "### ⚖️ Metrics"
   ]
  },
  {
   "cell_type": "code",
   "execution_count": 74,
   "metadata": {
    "scrolled": false
   },
   "outputs": [
    {
     "data": {
      "text/html": [
       "<div>\n",
       "<style scoped>\n",
       "    .dataframe tbody tr th:only-of-type {\n",
       "        vertical-align: middle;\n",
       "    }\n",
       "\n",
       "    .dataframe tbody tr th {\n",
       "        vertical-align: top;\n",
       "    }\n",
       "\n",
       "    .dataframe thead th {\n",
       "        text-align: right;\n",
       "    }\n",
       "</style>\n",
       "<table border=\"1\" class=\"dataframe\">\n",
       "  <thead>\n",
       "    <tr style=\"text-align: right;\">\n",
       "      <th></th>\n",
       "      <th>accuracy</th>\n",
       "      <th>precision</th>\n",
       "      <th>recall</th>\n",
       "      <th>f1</th>\n",
       "    </tr>\n",
       "  </thead>\n",
       "  <tbody>\n",
       "    <tr>\n",
       "      <th>baseline</th>\n",
       "      <td>66.483516</td>\n",
       "      <td>0.668206</td>\n",
       "      <td>0.664835</td>\n",
       "      <td>0.618607</td>\n",
       "    </tr>\n",
       "    <tr>\n",
       "      <th>custom_token_embedding</th>\n",
       "      <td>78.674037</td>\n",
       "      <td>0.783372</td>\n",
       "      <td>0.786740</td>\n",
       "      <td>0.784180</td>\n",
       "    </tr>\n",
       "    <tr>\n",
       "      <th>pretrained token embedding layer</th>\n",
       "      <td>71.408712</td>\n",
       "      <td>0.714759</td>\n",
       "      <td>0.714087</td>\n",
       "      <td>0.711240</td>\n",
       "    </tr>\n",
       "    <tr>\n",
       "      <th>Conv1D with character-level embedding</th>\n",
       "      <td>64.798755</td>\n",
       "      <td>0.641725</td>\n",
       "      <td>0.647988</td>\n",
       "      <td>0.636529</td>\n",
       "    </tr>\n",
       "  </tbody>\n",
       "</table>\n",
       "</div>"
      ],
      "text/plain": [
       "                                        accuracy  precision    recall  \\\n",
       "baseline                               66.483516   0.668206  0.664835   \n",
       "custom_token_embedding                 78.674037   0.783372  0.786740   \n",
       "pretrained token embedding layer       71.408712   0.714759  0.714087   \n",
       "Conv1D with character-level embedding  64.798755   0.641725  0.647988   \n",
       "\n",
       "                                             f1  \n",
       "baseline                               0.618607  \n",
       "custom_token_embedding                 0.784180  \n",
       "pretrained token embedding layer       0.711240  \n",
       "Conv1D with character-level embedding  0.636529  "
      ]
     },
     "execution_count": 74,
     "metadata": {},
     "output_type": "execute_result"
    }
   ],
   "source": [
    "# Results of the models built so far\n",
    "all_model_results = pd.DataFrame({\n",
    "    \"baseline\": baseline_results,\n",
    "    \"custom_token_embedding\": model_1_results,\n",
    "    \"pretrained token embedding layer\": model_2_results,\n",
    "    \"Conv1D with character-level embedding\":model_3_results\n",
    "})\n",
    "\n",
    "all_model_results = all_model_results.transpose()\n",
    "all_model_results"
   ]
  },
  {
   "cell_type": "markdown",
   "metadata": {},
   "source": [
    "---\n",
    "![title](img/model_4.png) \n",
    "\n",
    "The next experiment is a hybrid model that uses both word and character embeddings, as mentioned in the paper.\n",
    "\n",
    "### 🚂 Build a input pipeline using the tf.data API"
   ]
  },
  {
   "cell_type": "code",
   "execution_count": 75,
   "metadata": {},
   "outputs": [],
   "source": [
    "# Combine the char and token into one dataset\n",
    "train_hybrid_data = tf.data.Dataset.from_tensor_slices((train_sentences, train_chars))\n",
    "train_hybrid_labels = tf.data.Dataset.from_tensor_slices((train_labels_one_hot)) # Both have same labels anyway\n",
    "train_hybrid_dataset = tf.data.Dataset.zip((train_hybrid_data, train_hybrid_labels))\n",
    "\n",
    "# Prefetch and batch training data\n",
    "train_hybrid_dataset = train_hybrid_dataset.batch(32).prefetch(tf.data.AUTOTUNE)\n",
    "\n",
    "# Repeat for validation data\n",
    "val_hybrid_data = tf.data.Dataset.from_tensor_slices((val_sentences, val_chars))\n",
    "val_hybrid_labels = tf.data.Dataset.from_tensor_slices((val_labels_one_hot)) # Both have same labels anyway\n",
    "val_hybrid_dataset = tf.data.Dataset.zip((val_hybrid_data, val_hybrid_labels))\n",
    "val_hybrid_dataset = val_hybrid_dataset.batch(32).prefetch(tf.data.AUTOTUNE)"
   ]
  },
  {
   "cell_type": "code",
   "execution_count": 76,
   "metadata": {
    "scrolled": false
   },
   "outputs": [
    {
     "data": {
      "text/plain": [
       "(<PrefetchDataset shapes: (((None,), (None,)), (None, 5)), types: ((tf.string, tf.string), tf.float64)>,\n",
       " <PrefetchDataset shapes: (((None,), (None,)), (None, 5)), types: ((tf.string, tf.string), tf.float64)>)"
      ]
     },
     "execution_count": 76,
     "metadata": {},
     "output_type": "execute_result"
    }
   ],
   "source": [
    "train_hybrid_dataset, val_hybrid_dataset"
   ]
  },
  {
   "cell_type": "markdown",
   "metadata": {},
   "source": [
    "# 🏋️‍♀️ Model Training"
   ]
  },
  {
   "cell_type": "code",
   "execution_count": 77,
   "metadata": {},
   "outputs": [],
   "source": [
    "# Build the token-level embedding layer (similar to model_1)\n",
    "token_inputs = layers.Input(shape=[], dtype=tf.string, name='token_input')\n",
    "token_embeddings = universal_sentence_encoder(token_inputs)\n",
    "token_outputs = layers.Dense(128, activation='relu')(token_embeddings)\n",
    "token_model = tf.keras.Model(inputs=token_inputs,\n",
    "                            outputs=token_outputs)\n",
    "\n",
    "# Build the character-level embedding layer (similar to model_3 with a slight modification to reflect the paper)\n",
    "char_inputs = layers.Input(shape=(1,), dtype=tf.string, name='char_input')\n",
    "char_vectors = char_vectorizer(char_inputs)\n",
    "char_embeddings = char_embed(char_vectors)\n",
    "char_bi_lstm = layers.Bidirectional(layers.LSTM(25))(char_embeddings)\n",
    "char_model = tf.keras.Model(inputs=char_inputs,\n",
    "                           outputs=char_bi_lstm)\n",
    "\n",
    "# Combine the two outputs from the models 1 and 2, using layers.Concatenate\n",
    "token_char_concat = layers.Concatenate(name='token_char_hybrid')([token_model.output, char_model.output])\n",
    "\n",
    "# Final output layers similar to the ones in the paper\n",
    "x = layers.Dropout(0.5)(token_char_concat)\n",
    "x = layers.Dense(200, activation='relu')(x)\n",
    "x = layers.Dropout(0.5)(x)\n",
    "output_layers = layers.Dense(num_classes, activation='softmax')(x)\n",
    "\n",
    "# Construct a model that take character-level and token-level sequences as input, and outputs label probabilities.\n",
    "model_4 = tf.keras.Model(inputs=[token_model.input, char_model.input],\n",
    "                        outputs=output_layers,\n",
    "                        name='model_4_hybrid_token_and_char_embeddings')\n",
    "\n",
    "model_4.compile(loss='categorical_crossentropy',\n",
    "             optimizer=tf.keras.optimizers.Adam(),\n",
    "             metrics=['accuracy'])"
   ]
  },
  {
   "cell_type": "code",
   "execution_count": 78,
   "metadata": {
    "scrolled": false
   },
   "outputs": [
    {
     "name": "stdout",
     "output_type": "stream",
     "text": [
      "Model: \"model_4_hybrid_token_and_char_embeddings\"\n",
      "__________________________________________________________________________________________________\n",
      "Layer (type)                    Output Shape         Param #     Connected to                     \n",
      "==================================================================================================\n",
      "char_input (InputLayer)         [(None, 1)]          0                                            \n",
      "__________________________________________________________________________________________________\n",
      "token_input (InputLayer)        [(None,)]            0                                            \n",
      "__________________________________________________________________________________________________\n",
      "char_vectorizer (TextVectorizat (None, 290)          0           char_input[0][0]                 \n",
      "__________________________________________________________________________________________________\n",
      "universal_sentence_encoder (Ker (None, 512)          256797824   token_input[0][0]                \n",
      "__________________________________________________________________________________________________\n",
      "char_embed (Embedding)          (None, 290, 25)      1700        char_vectorizer[1][0]            \n",
      "__________________________________________________________________________________________________\n",
      "dense_4 (Dense)                 (None, 128)          65664       universal_sentence_encoder[1][0] \n",
      "__________________________________________________________________________________________________\n",
      "bidirectional (Bidirectional)   (None, 50)           10200       char_embed[1][0]                 \n",
      "__________________________________________________________________________________________________\n",
      "token_char_hybrid (Concatenate) (None, 178)          0           dense_4[0][0]                    \n",
      "                                                                 bidirectional[0][0]              \n",
      "__________________________________________________________________________________________________\n",
      "dropout (Dropout)               (None, 178)          0           token_char_hybrid[0][0]          \n",
      "__________________________________________________________________________________________________\n",
      "dense_5 (Dense)                 (None, 200)          35800       dropout[0][0]                    \n",
      "__________________________________________________________________________________________________\n",
      "dropout_1 (Dropout)             (None, 200)          0           dense_5[0][0]                    \n",
      "__________________________________________________________________________________________________\n",
      "dense_6 (Dense)                 (None, 5)            1005        dropout_1[0][0]                  \n",
      "==================================================================================================\n",
      "Total params: 256,912,193\n",
      "Trainable params: 114,369\n",
      "Non-trainable params: 256,797,824\n",
      "__________________________________________________________________________________________________\n"
     ]
    }
   ],
   "source": [
    "model_4.summary()"
   ]
  },
  {
   "cell_type": "code",
   "execution_count": 79,
   "metadata": {
    "scrolled": true
   },
   "outputs": [
    {
     "data": {
      "image/png": "[encoded data removed]",
      "text/plain": [
       "<IPython.core.display.Image object>"
      ]
     },
     "execution_count": 79,
     "metadata": {},
     "output_type": "execute_result"
    }
   ],
   "source": [
    "from tensorflow.keras.utils import plot_model\n",
    "plot_model(model_4)"
   ]
  },
  {
   "cell_type": "code",
   "execution_count": 80,
   "metadata": {
    "scrolled": false
   },
   "outputs": [
    {
     "name": "stdout",
     "output_type": "stream",
     "text": [
      "Epoch 1/3\n",
      "562/562 [==============================] - 73s 121ms/step - loss: 0.9609 - accuracy: 0.6185 - val_loss: 0.7784 - val_accuracy: 0.7038\n",
      "Epoch 2/3\n",
      "562/562 [==============================] - 67s 119ms/step - loss: 0.7834 - accuracy: 0.6974 - val_loss: 0.7037 - val_accuracy: 0.7334\n",
      "Epoch 3/3\n",
      "562/562 [==============================] - 66s 117ms/step - loss: 0.7596 - accuracy: 0.7089 - val_loss: 0.6814 - val_accuracy: 0.7394\n"
     ]
    }
   ],
   "source": [
    "model_4_history = model_4.fit(train_hybrid_dataset,\n",
    "                             steps_per_epoch=int(0.1 * len(train_hybrid_dataset)),\n",
    "                             epochs=3,\n",
    "                             validation_data=val_hybrid_dataset,\n",
    "                             validation_steps=int(0.1 * len(val_hybrid_dataset)))"
   ]
  },
  {
   "cell_type": "markdown",
   "metadata": {},
   "source": [
    "# ✍🏽 Model Evaluation\n"
   ]
  },
  {
   "cell_type": "code",
   "execution_count": 81,
   "metadata": {},
   "outputs": [
    {
     "name": "stdout",
     "output_type": "stream",
     "text": [
      "945/945 [==============================] - 19s 20ms/step - loss: 0.6874 - accuracy: 0.7374\n"
     ]
    },
    {
     "data": {
      "text/plain": [
       "[0.6873849630355835, 0.7374222278594971]"
      ]
     },
     "execution_count": 81,
     "metadata": {},
     "output_type": "execute_result"
    }
   ],
   "source": [
    "model_4.evaluate(val_hybrid_dataset)"
   ]
  },
  {
   "cell_type": "code",
   "execution_count": 82,
   "metadata": {},
   "outputs": [
    {
     "data": {
      "text/plain": [
       "array([[4.7474799e-01, 3.0504894e-01, 5.5815321e-03, 2.0916082e-01,\n",
       "        5.4607182e-03],\n",
       "       [3.7314793e-01, 4.4514060e-01, 2.5011832e-03, 1.7785162e-01,\n",
       "        1.3587212e-03],\n",
       "       [3.0415812e-01, 1.7303492e-01, 6.8108238e-02, 3.9959034e-01,\n",
       "        5.5108462e-02],\n",
       "       ...,\n",
       "       [5.8185495e-04, 1.0076287e-02, 6.7986801e-02, 2.3493780e-04,\n",
       "        9.2112017e-01],\n",
       "       [5.9106550e-03, 6.3583829e-02, 2.9170936e-01, 3.0489666e-03,\n",
       "        6.3574719e-01],\n",
       "       [1.5735359e-01, 5.2402437e-01, 2.5641102e-01, 1.6265281e-02,\n",
       "        4.5945819e-02]], dtype=float32)"
      ]
     },
     "execution_count": 82,
     "metadata": {},
     "output_type": "execute_result"
    }
   ],
   "source": [
    "model_4_pred_probs = model_4.predict(val_hybrid_dataset)\n",
    "\n",
    "model_4_pred_probs"
   ]
  },
  {
   "cell_type": "code",
   "execution_count": 83,
   "metadata": {},
   "outputs": [
    {
     "data": {
      "text/plain": [
       "<tf.Tensor: shape=(30212,), dtype=int64, numpy=array([0, 1, 3, ..., 4, 4, 1])>"
      ]
     },
     "execution_count": 83,
     "metadata": {},
     "output_type": "execute_result"
    }
   ],
   "source": [
    "model_4_preds = tf.argmax(model_4_pred_probs, axis=1)\n",
    "model_4_preds"
   ]
  },
  {
   "cell_type": "code",
   "execution_count": 84,
   "metadata": {},
   "outputs": [],
   "source": [
    "model_4_results = calculate_results(y_true=val_labels_encoded,\n",
    "                                   y_pred=model_4_preds)"
   ]
  },
  {
   "cell_type": "code",
   "execution_count": 85,
   "metadata": {},
   "outputs": [
    {
     "data": {
      "text/html": [
       "<div>\n",
       "<style scoped>\n",
       "    .dataframe tbody tr th:only-of-type {\n",
       "        vertical-align: middle;\n",
       "    }\n",
       "\n",
       "    .dataframe tbody tr th {\n",
       "        vertical-align: top;\n",
       "    }\n",
       "\n",
       "    .dataframe thead th {\n",
       "        text-align: right;\n",
       "    }\n",
       "</style>\n",
       "<table border=\"1\" class=\"dataframe\">\n",
       "  <thead>\n",
       "    <tr style=\"text-align: right;\">\n",
       "      <th></th>\n",
       "      <th>accuracy</th>\n",
       "      <th>precision</th>\n",
       "      <th>recall</th>\n",
       "      <th>f1</th>\n",
       "    </tr>\n",
       "  </thead>\n",
       "  <tbody>\n",
       "    <tr>\n",
       "      <th>baseline</th>\n",
       "      <td>66.483516</td>\n",
       "      <td>0.668206</td>\n",
       "      <td>0.664835</td>\n",
       "      <td>0.618607</td>\n",
       "    </tr>\n",
       "    <tr>\n",
       "      <th>custom_token_embedding</th>\n",
       "      <td>78.674037</td>\n",
       "      <td>0.783372</td>\n",
       "      <td>0.786740</td>\n",
       "      <td>0.784180</td>\n",
       "    </tr>\n",
       "    <tr>\n",
       "      <th>pretrained token embedding layer</th>\n",
       "      <td>71.408712</td>\n",
       "      <td>0.714759</td>\n",
       "      <td>0.714087</td>\n",
       "      <td>0.711240</td>\n",
       "    </tr>\n",
       "    <tr>\n",
       "      <th>Conv1D with character-level embedding</th>\n",
       "      <td>64.798755</td>\n",
       "      <td>0.641725</td>\n",
       "      <td>0.647988</td>\n",
       "      <td>0.636529</td>\n",
       "    </tr>\n",
       "    <tr>\n",
       "      <th>Token &amp; Char Hybrid Embedding w/ Bi-LSTM</th>\n",
       "      <td>73.742222</td>\n",
       "      <td>0.738185</td>\n",
       "      <td>0.737422</td>\n",
       "      <td>0.735032</td>\n",
       "    </tr>\n",
       "  </tbody>\n",
       "</table>\n",
       "</div>"
      ],
      "text/plain": [
       "                                           accuracy  precision    recall  \\\n",
       "baseline                                  66.483516   0.668206  0.664835   \n",
       "custom_token_embedding                    78.674037   0.783372  0.786740   \n",
       "pretrained token embedding layer          71.408712   0.714759  0.714087   \n",
       "Conv1D with character-level embedding     64.798755   0.641725  0.647988   \n",
       "Token & Char Hybrid Embedding w/ Bi-LSTM  73.742222   0.738185  0.737422   \n",
       "\n",
       "                                                f1  \n",
       "baseline                                  0.618607  \n",
       "custom_token_embedding                    0.784180  \n",
       "pretrained token embedding layer          0.711240  \n",
       "Conv1D with character-level embedding     0.636529  \n",
       "Token & Char Hybrid Embedding w/ Bi-LSTM  0.735032  "
      ]
     },
     "execution_count": 85,
     "metadata": {},
     "output_type": "execute_result"
    }
   ],
   "source": [
    "all_model_results = pd.DataFrame({\n",
    "    \"baseline\": baseline_results,\n",
    "    \"custom_token_embedding\": model_1_results,\n",
    "    \"pretrained token embedding layer\": model_2_results,\n",
    "    \"Conv1D with character-level embedding\":model_3_results,\n",
    "    \"Token & Char Hybrid Embedding w/ Bi-LSTM\": model_4_results\n",
    "})\n",
    "\n",
    "all_model_results = all_model_results.transpose()\n",
    "all_model_results"
   ]
  },
  {
   "cell_type": "markdown",
   "metadata": {},
   "source": [
    "---\n",
    "![title](img/model_5.png) \n",
    "\n",
    "\n",
    "# 🛠 Feature Engineering\n",
    "\n",
    "Before we engineer new features, we need to ensure that these features are _available at test time_, meaning, we should be able to obtain these features from new sets of data.\n",
    "\n",
    "* Line number: Easily countable\n",
    "* Total lines: Easily countable as well\n",
    "\n",
    "### Implementing positional embeddings\n",
    "\n",
    "> __Positional embeddings__ indicate where a sentence is in a corpus\n",
    "\n",
    "Since the <b>order</b> in which the sentences appear matter, we can __implement positional embeddings__ which are also available at test time. What i mean is, usually, the classes of the sentences appear in this order {BACKGROUND, OBJECTIVE, METHOD, RESULTS, CONCLUSION}. So, it makes sense to add the line number relative to the number of lines in the abstract.\n",
    "\n",
    "These values are also available at test time (meaning we can just count the no of lines beforehand, since we dont need to label these). We also can't engineer the labels into the training data because they are not available at test time.\n",
    "\n",
    "This is called dimensionality reduction.\n",
    "\n",
    "> One way of creating the positional embedding feature would be to combine the \"line number\" and `total_lines` feature into `line_position` and see how it performs against having two columns instead"
   ]
  },
  {
   "cell_type": "code",
   "execution_count": 86,
   "metadata": {},
   "outputs": [
    {
     "data": {
      "text/html": [
       "<div>\n",
       "<style scoped>\n",
       "    .dataframe tbody tr th:only-of-type {\n",
       "        vertical-align: middle;\n",
       "    }\n",
       "\n",
       "    .dataframe tbody tr th {\n",
       "        vertical-align: top;\n",
       "    }\n",
       "\n",
       "    .dataframe thead th {\n",
       "        text-align: right;\n",
       "    }\n",
       "</style>\n",
       "<table border=\"1\" class=\"dataframe\">\n",
       "  <thead>\n",
       "    <tr style=\"text-align: right;\">\n",
       "      <th></th>\n",
       "      <th>target</th>\n",
       "      <th>text</th>\n",
       "      <th>line_number</th>\n",
       "      <th>total_lines</th>\n",
       "    </tr>\n",
       "  </thead>\n",
       "  <tbody>\n",
       "    <tr>\n",
       "      <th>0</th>\n",
       "      <td>OBJECTIVE</td>\n",
       "      <td>to investigate the efficacy of @ weeks of dail...</td>\n",
       "      <td>0</td>\n",
       "      <td>11</td>\n",
       "    </tr>\n",
       "    <tr>\n",
       "      <th>1</th>\n",
       "      <td>METHODS</td>\n",
       "      <td>a total of @ patients with primary knee oa wer...</td>\n",
       "      <td>1</td>\n",
       "      <td>11</td>\n",
       "    </tr>\n",
       "    <tr>\n",
       "      <th>2</th>\n",
       "      <td>METHODS</td>\n",
       "      <td>outcome measures included pain reduction and i...</td>\n",
       "      <td>2</td>\n",
       "      <td>11</td>\n",
       "    </tr>\n",
       "    <tr>\n",
       "      <th>3</th>\n",
       "      <td>METHODS</td>\n",
       "      <td>pain was assessed using the visual analog pain...</td>\n",
       "      <td>3</td>\n",
       "      <td>11</td>\n",
       "    </tr>\n",
       "    <tr>\n",
       "      <th>4</th>\n",
       "      <td>METHODS</td>\n",
       "      <td>secondary outcome measures included the wester...</td>\n",
       "      <td>4</td>\n",
       "      <td>11</td>\n",
       "    </tr>\n",
       "    <tr>\n",
       "      <th>...</th>\n",
       "      <td>...</td>\n",
       "      <td>...</td>\n",
       "      <td>...</td>\n",
       "      <td>...</td>\n",
       "    </tr>\n",
       "    <tr>\n",
       "      <th>180035</th>\n",
       "      <td>RESULTS</td>\n",
       "      <td>for the absolute change in percent atheroma vo...</td>\n",
       "      <td>7</td>\n",
       "      <td>11</td>\n",
       "    </tr>\n",
       "    <tr>\n",
       "      <th>180036</th>\n",
       "      <td>RESULTS</td>\n",
       "      <td>for pav , a significantly greater percentage o...</td>\n",
       "      <td>8</td>\n",
       "      <td>11</td>\n",
       "    </tr>\n",
       "    <tr>\n",
       "      <th>180037</th>\n",
       "      <td>RESULTS</td>\n",
       "      <td>both strategies had acceptable side effect pro...</td>\n",
       "      <td>9</td>\n",
       "      <td>11</td>\n",
       "    </tr>\n",
       "    <tr>\n",
       "      <th>180038</th>\n",
       "      <td>CONCLUSIONS</td>\n",
       "      <td>compared with standard statin monotherapy , th...</td>\n",
       "      <td>10</td>\n",
       "      <td>11</td>\n",
       "    </tr>\n",
       "    <tr>\n",
       "      <th>180039</th>\n",
       "      <td>CONCLUSIONS</td>\n",
       "      <td>( plaque regression with cholesterol absorptio...</td>\n",
       "      <td>11</td>\n",
       "      <td>11</td>\n",
       "    </tr>\n",
       "  </tbody>\n",
       "</table>\n",
       "<p>180040 rows × 4 columns</p>\n",
       "</div>"
      ],
      "text/plain": [
       "             target                                               text  \\\n",
       "0         OBJECTIVE  to investigate the efficacy of @ weeks of dail...   \n",
       "1           METHODS  a total of @ patients with primary knee oa wer...   \n",
       "2           METHODS  outcome measures included pain reduction and i...   \n",
       "3           METHODS  pain was assessed using the visual analog pain...   \n",
       "4           METHODS  secondary outcome measures included the wester...   \n",
       "...             ...                                                ...   \n",
       "180035      RESULTS  for the absolute change in percent atheroma vo...   \n",
       "180036      RESULTS  for pav , a significantly greater percentage o...   \n",
       "180037      RESULTS  both strategies had acceptable side effect pro...   \n",
       "180038  CONCLUSIONS  compared with standard statin monotherapy , th...   \n",
       "180039  CONCLUSIONS  ( plaque regression with cholesterol absorptio...   \n",
       "\n",
       "        line_number  total_lines  \n",
       "0                 0           11  \n",
       "1                 1           11  \n",
       "2                 2           11  \n",
       "3                 3           11  \n",
       "4                 4           11  \n",
       "...             ...          ...  \n",
       "180035            7           11  \n",
       "180036            8           11  \n",
       "180037            9           11  \n",
       "180038           10           11  \n",
       "180039           11           11  \n",
       "\n",
       "[180040 rows x 4 columns]"
      ]
     },
     "execution_count": 86,
     "metadata": {},
     "output_type": "execute_result"
    }
   ],
   "source": [
    "# Our train dataframe already has the data required for creating positional embeddings\n",
    "train_df"
   ]
  },
  {
   "cell_type": "markdown",
   "metadata": {},
   "source": [
    "Since the `line_number` and `total_lines` are already numerical, we can pass them to our model. However, to avoid our model from thinking that `line_number = 5` is five times greater than `line_number = 1`, we will one-hot encode our data using the `tf.one_hot` function"
   ]
  },
  {
   "cell_type": "code",
   "execution_count": 87,
   "metadata": {
    "scrolled": false
   },
   "outputs": [
    {
     "data": {
      "text/plain": [
       "0     15000\n",
       "1     15000\n",
       "2     15000\n",
       "3     15000\n",
       "4     14992\n",
       "5     14949\n",
       "6     14758\n",
       "7     14279\n",
       "8     13346\n",
       "9     11981\n",
       "10    10041\n",
       "11     7892\n",
       "12     5853\n",
       "13     4152\n",
       "14     2835\n",
       "15     1861\n",
       "16     1188\n",
       "17      751\n",
       "18      462\n",
       "19      286\n",
       "20      162\n",
       "21      101\n",
       "22       66\n",
       "23       33\n",
       "24       22\n",
       "25       14\n",
       "26        7\n",
       "27        4\n",
       "28        3\n",
       "29        1\n",
       "30        1\n",
       "Name: line_number, dtype: int64"
      ]
     },
     "execution_count": 87,
     "metadata": {},
     "output_type": "execute_result"
    }
   ],
   "source": [
    "train_df['line_number'].value_counts()"
   ]
  },
  {
   "cell_type": "code",
   "execution_count": 88,
   "metadata": {},
   "outputs": [
    {
     "data": {
      "text/plain": [
       "<AxesSubplot:ylabel='Frequency'>"
      ]
     },
     "execution_count": 88,
     "metadata": {},
     "output_type": "execute_result"
    },
    {
     "data": {
      "image/png": "[encoded data removed]",
      "text/plain": [
       "<Figure size 432x288 with 1 Axes>"
      ]
     },
     "metadata": {
      "needs_background": "light"
     },
     "output_type": "display_data"
    }
   ],
   "source": [
    "train_df.line_number.plot.hist()\n",
    "\n",
    "# We can notice that most of the line numbers lie in the 0~20 lines value."
   ]
  },
  {
   "cell_type": "code",
   "execution_count": 89,
   "metadata": {
    "scrolled": true
   },
   "outputs": [],
   "source": [
    "# A scalar defining the depth of the one hot dimension.\n",
    "line_number_depth = 20\n",
    "\n",
    "# Use tensorflow to create one-hot-encoded tensors for the line_number column\n",
    "train_line_numbers_one_hot = tf.one_hot(train_df['line_number'].to_numpy(), depth=20)\n",
    "val_line_numbers_one_hot = tf.one_hot(val_df['line_number'].to_numpy(), depth=20)\n",
    "test_line_numbers_one_hot = tf.one_hot(test_df['line_number'].to_numpy(), depth=20)"
   ]
  },
  {
   "cell_type": "markdown",
   "metadata": {},
   "source": [
    "\n",
    "Setting the depth parameter of tf.one_hot to 15 means any sample with a \"line_number\" value of over 15 gets set to a tensor of all 0's, where as any sample with a \"line_number\" of under 15 gets turned into a tensor of all 0's but with a 1 at the index equal to the \"line_number\" value.\n",
    "\n",
    "> 🔑 Note: We could create a one-hot tensor which has room for all of the __potential values__ of \"line_number\" (depth=30), however, this would end up in a tensor of __double__ the size of our current one (depth=15) where the vast majority of values are 0 (sparse). Plus, only ~2,000/180,000 samples have a \"line_number\" value of over 15. So we __would not be gaining much information about our data for doubling our feature space__. This kind of problem is called the _curse of dimensionality_. However, since this we're working with deep models, it might be worth trying to throw as much information at the model as possible and seeing what happens. I'll leave exploring values of the depth parameter as an extension."
   ]
  },
  {
   "cell_type": "code",
   "execution_count": 90,
   "metadata": {},
   "outputs": [
    {
     "data": {
      "text/plain": [
       "(TensorShape([180040, 20]),\n",
       " <tf.Tensor: shape=(20, 20), dtype=float32, numpy=\n",
       " array([[1., 0., 0., 0., 0., 0., 0., 0., 0., 0., 0., 0., 0., 0., 0., 0.,\n",
       "         0., 0., 0., 0.],\n",
       "        [0., 1., 0., 0., 0., 0., 0., 0., 0., 0., 0., 0., 0., 0., 0., 0.,\n",
       "         0., 0., 0., 0.],\n",
       "        [0., 0., 1., 0., 0., 0., 0., 0., 0., 0., 0., 0., 0., 0., 0., 0.,\n",
       "         0., 0., 0., 0.],\n",
       "        [0., 0., 0., 1., 0., 0., 0., 0., 0., 0., 0., 0., 0., 0., 0., 0.,\n",
       "         0., 0., 0., 0.],\n",
       "        [0., 0., 0., 0., 1., 0., 0., 0., 0., 0., 0., 0., 0., 0., 0., 0.,\n",
       "         0., 0., 0., 0.],\n",
       "        [0., 0., 0., 0., 0., 1., 0., 0., 0., 0., 0., 0., 0., 0., 0., 0.,\n",
       "         0., 0., 0., 0.],\n",
       "        [0., 0., 0., 0., 0., 0., 1., 0., 0., 0., 0., 0., 0., 0., 0., 0.,\n",
       "         0., 0., 0., 0.],\n",
       "        [0., 0., 0., 0., 0., 0., 0., 1., 0., 0., 0., 0., 0., 0., 0., 0.,\n",
       "         0., 0., 0., 0.],\n",
       "        [0., 0., 0., 0., 0., 0., 0., 0., 1., 0., 0., 0., 0., 0., 0., 0.,\n",
       "         0., 0., 0., 0.],\n",
       "        [0., 0., 0., 0., 0., 0., 0., 0., 0., 1., 0., 0., 0., 0., 0., 0.,\n",
       "         0., 0., 0., 0.],\n",
       "        [0., 0., 0., 0., 0., 0., 0., 0., 0., 0., 1., 0., 0., 0., 0., 0.,\n",
       "         0., 0., 0., 0.],\n",
       "        [0., 0., 0., 0., 0., 0., 0., 0., 0., 0., 0., 1., 0., 0., 0., 0.,\n",
       "         0., 0., 0., 0.],\n",
       "        [1., 0., 0., 0., 0., 0., 0., 0., 0., 0., 0., 0., 0., 0., 0., 0.,\n",
       "         0., 0., 0., 0.],\n",
       "        [0., 1., 0., 0., 0., 0., 0., 0., 0., 0., 0., 0., 0., 0., 0., 0.,\n",
       "         0., 0., 0., 0.],\n",
       "        [0., 0., 1., 0., 0., 0., 0., 0., 0., 0., 0., 0., 0., 0., 0., 0.,\n",
       "         0., 0., 0., 0.],\n",
       "        [0., 0., 0., 1., 0., 0., 0., 0., 0., 0., 0., 0., 0., 0., 0., 0.,\n",
       "         0., 0., 0., 0.],\n",
       "        [0., 0., 0., 0., 1., 0., 0., 0., 0., 0., 0., 0., 0., 0., 0., 0.,\n",
       "         0., 0., 0., 0.],\n",
       "        [0., 0., 0., 0., 0., 1., 0., 0., 0., 0., 0., 0., 0., 0., 0., 0.,\n",
       "         0., 0., 0., 0.],\n",
       "        [0., 0., 0., 0., 0., 0., 1., 0., 0., 0., 0., 0., 0., 0., 0., 0.,\n",
       "         0., 0., 0., 0.],\n",
       "        [0., 0., 0., 0., 0., 0., 0., 1., 0., 0., 0., 0., 0., 0., 0., 0.,\n",
       "         0., 0., 0., 0.]], dtype=float32)>)"
      ]
     },
     "execution_count": 90,
     "metadata": {},
     "output_type": "execute_result"
    }
   ],
   "source": [
    "train_line_numbers_one_hot.shape, train_line_numbers_one_hot[:20]"
   ]
  },
  {
   "cell_type": "code",
   "execution_count": 91,
   "metadata": {
    "scrolled": true
   },
   "outputs": [
    {
     "data": {
      "text/plain": [
       "11    24468\n",
       "10    23639\n",
       "12    22113\n",
       "9     19400\n",
       "13    18438\n",
       "14    14610\n",
       "8     12285\n",
       "15    10768\n",
       "7      7464\n",
       "16     7429\n",
       "17     5202\n",
       "6      3353\n",
       "18     3344\n",
       "19     2480\n",
       "20     1281\n",
       "5      1146\n",
       "21      770\n",
       "22      759\n",
       "23      264\n",
       "4       215\n",
       "24      200\n",
       "25      182\n",
       "26       81\n",
       "28       58\n",
       "3        32\n",
       "30       31\n",
       "27       28\n",
       "Name: total_lines, dtype: int64"
      ]
     },
     "execution_count": 91,
     "metadata": {},
     "output_type": "execute_result"
    }
   ],
   "source": [
    "# Do the same thing, with the total lines\n",
    "train_df['total_lines'].value_counts()"
   ]
  },
  {
   "cell_type": "code",
   "execution_count": 92,
   "metadata": {
    "scrolled": true
   },
   "outputs": [
    {
     "data": {
      "text/plain": [
       "<AxesSubplot:ylabel='Frequency'>"
      ]
     },
     "execution_count": 92,
     "metadata": {},
     "output_type": "execute_result"
    },
    {
     "data": {
      "image/png": "[encoded data removed]",
      "text/plain": [
       "<Figure size 432x288 with 1 Axes>"
      ]
     },
     "metadata": {
      "needs_background": "light"
     },
     "output_type": "display_data"
    }
   ],
   "source": [
    "train_df['total_lines'].plot.hist()"
   ]
  },
  {
   "cell_type": "code",
   "execution_count": 93,
   "metadata": {},
   "outputs": [
    {
     "data": {
      "text/plain": [
       "20.0"
      ]
     },
     "execution_count": 93,
     "metadata": {},
     "output_type": "execute_result"
    }
   ],
   "source": [
    "np.percentile(train_df.total_lines, 98)"
   ]
  },
  {
   "cell_type": "code",
   "execution_count": 94,
   "metadata": {
    "scrolled": false
   },
   "outputs": [
    {
     "data": {
      "text/plain": [
       "(TensorShape([180040, 20]),\n",
       " <tf.Tensor: shape=(10, 20), dtype=float32, numpy=\n",
       " array([[0., 0., 0., 0., 0., 0., 0., 0., 0., 0., 0., 1., 0., 0., 0., 0.,\n",
       "         0., 0., 0., 0.],\n",
       "        [0., 0., 0., 0., 0., 0., 0., 0., 0., 0., 0., 1., 0., 0., 0., 0.,\n",
       "         0., 0., 0., 0.],\n",
       "        [0., 0., 0., 0., 0., 0., 0., 0., 0., 0., 0., 1., 0., 0., 0., 0.,\n",
       "         0., 0., 0., 0.],\n",
       "        [0., 0., 0., 0., 0., 0., 0., 0., 0., 0., 0., 1., 0., 0., 0., 0.,\n",
       "         0., 0., 0., 0.],\n",
       "        [0., 0., 0., 0., 0., 0., 0., 0., 0., 0., 0., 1., 0., 0., 0., 0.,\n",
       "         0., 0., 0., 0.],\n",
       "        [0., 0., 0., 0., 0., 0., 0., 0., 0., 0., 0., 1., 0., 0., 0., 0.,\n",
       "         0., 0., 0., 0.],\n",
       "        [0., 0., 0., 0., 0., 0., 0., 0., 0., 0., 0., 1., 0., 0., 0., 0.,\n",
       "         0., 0., 0., 0.],\n",
       "        [0., 0., 0., 0., 0., 0., 0., 0., 0., 0., 0., 1., 0., 0., 0., 0.,\n",
       "         0., 0., 0., 0.],\n",
       "        [0., 0., 0., 0., 0., 0., 0., 0., 0., 0., 0., 1., 0., 0., 0., 0.,\n",
       "         0., 0., 0., 0.],\n",
       "        [0., 0., 0., 0., 0., 0., 0., 0., 0., 0., 0., 1., 0., 0., 0., 0.,\n",
       "         0., 0., 0., 0.]], dtype=float32)>)"
      ]
     },
     "execution_count": 94,
     "metadata": {},
     "output_type": "execute_result"
    }
   ],
   "source": [
    "total_lines_depth = 20\n",
    "\n",
    "train_total_lines_one_hot = tf.one_hot(train_df['total_lines'].to_numpy(), depth=20)\n",
    "val_total_lines_one_hot = tf.one_hot(val_df['total_lines'].to_numpy(), depth=20)\n",
    "test_total_lines_one_hot = tf.one_hot(test_df['total_lines'].to_numpy(), depth=20)\n",
    "\n",
    "train_total_lines_one_hot.shape, train_total_lines_one_hot[:10]"
   ]
  },
  {
   "cell_type": "markdown",
   "metadata": {},
   "source": [
    "### 🚂 Build a input pipeline using the tf.data API"
   ]
  },
  {
   "cell_type": "code",
   "execution_count": 95,
   "metadata": {},
   "outputs": [],
   "source": [
    "train_pos_char_token_data = tf.data.Dataset.from_tensor_slices((train_line_numbers_one_hot,\n",
    "                                                                  train_total_lines_one_hot,\n",
    "                                                                  train_sentences,\n",
    "                                                                  train_chars))\n",
    "\n",
    "train_pos_char_token_labels = tf.data.Dataset.from_tensor_slices(train_labels_one_hot)\n",
    "train_pos_char_token_dataset = tf.data.Dataset.zip((train_pos_char_token_data, train_pos_char_token_labels))\n",
    "train_pos_char_token_dataset = train_pos_char_token_dataset.batch(32).prefetch(tf.data.AUTOTUNE)\n",
    "\n",
    "# Validation dataset\n",
    "val_pos_char_token_data = tf.data.Dataset.from_tensor_slices((val_line_numbers_one_hot,\n",
    "                                                              val_total_lines_one_hot,\n",
    "                                                              val_sentences,\n",
    "                                                              val_chars))\n",
    "val_pos_char_token_labels = tf.data.Dataset.from_tensor_slices(val_labels_one_hot)\n",
    "val_pos_char_token_dataset = tf.data.Dataset.zip((val_pos_char_token_data, val_pos_char_token_labels))\n",
    "val_pos_char_token_dataset = val_pos_char_token_dataset.batch(32).prefetch(tf.data.AUTOTUNE) # turn into batches and prefetch appropriately"
   ]
  },
  {
   "cell_type": "markdown",
   "metadata": {},
   "source": [
    "# 🏋️‍♀️ Model Training"
   ]
  },
  {
   "cell_type": "code",
   "execution_count": 96,
   "metadata": {
    "scrolled": true
   },
   "outputs": [
    {
     "name": "stdout",
     "output_type": "stream",
     "text": [
      "Model: \"model_8\"\n",
      "__________________________________________________________________________________________________\n",
      "Layer (type)                    Output Shape         Param #     Connected to                     \n",
      "==================================================================================================\n",
      "char_inputs (InputLayer)        [(None, 1)]          0                                            \n",
      "__________________________________________________________________________________________________\n",
      "token_inputs (InputLayer)       [(None,)]            0                                            \n",
      "__________________________________________________________________________________________________\n",
      "char_vectorizer (TextVectorizat (None, 290)          0           char_inputs[0][0]                \n",
      "__________________________________________________________________________________________________\n",
      "universal_sentence_encoder (Ker (None, 512)          256797824   token_inputs[0][0]               \n",
      "__________________________________________________________________________________________________\n",
      "char_embed (Embedding)          (None, 290, 25)      1700        char_vectorizer[2][0]            \n",
      "__________________________________________________________________________________________________\n",
      "dense_7 (Dense)                 (None, 128)          65664       universal_sentence_encoder[2][0] \n",
      "__________________________________________________________________________________________________\n",
      "bidirectional_1 (Bidirectional) (None, 64)           14848       char_embed[2][0]                 \n",
      "__________________________________________________________________________________________________\n",
      "hybrid_embedding (Concatenate)  (None, 192)          0           dense_7[0][0]                    \n",
      "                                                                 bidirectional_1[0][0]            \n",
      "__________________________________________________________________________________________________\n",
      "line_number_inputs (InputLayer) [(None, 20)]         0                                            \n",
      "__________________________________________________________________________________________________\n",
      "total_lines_inputs (InputLayer) [(None, 20)]         0                                            \n",
      "__________________________________________________________________________________________________\n",
      "dense_10 (Dense)                (None, 256)          49408       hybrid_embedding[0][0]           \n",
      "__________________________________________________________________________________________________\n",
      "dense_8 (Dense)                 (None, 32)           672         line_number_inputs[0][0]         \n",
      "__________________________________________________________________________________________________\n",
      "dense_9 (Dense)                 (None, 32)           672         total_lines_inputs[0][0]         \n",
      "__________________________________________________________________________________________________\n",
      "dropout_2 (Dropout)             (None, 256)          0           dense_10[0][0]                   \n",
      "__________________________________________________________________________________________________\n",
      "hybrid_embedding_with_positiona (None, 320)          0           dense_8[0][0]                    \n",
      "                                                                 dense_9[0][0]                    \n",
      "                                                                 dropout_2[0][0]                  \n",
      "__________________________________________________________________________________________________\n",
      "dense_11 (Dense)                (None, 5)            1605        hybrid_embedding_with_positional_\n",
      "==================================================================================================\n",
      "Total params: 256,932,393\n",
      "Trainable params: 134,569\n",
      "Non-trainable params: 256,797,824\n",
      "__________________________________________________________________________________________________\n"
     ]
    }
   ],
   "source": [
    "# 1. Token inputs\n",
    "token_inputs = layers.Input(shape=[], dtype='string', name='token_inputs')\n",
    "token_embeddings = universal_sentence_encoder(token_inputs)\n",
    "token_outputs = layers.Dense(128, activation='relu')(token_embeddings)\n",
    "token_model = tf.keras.Model(inputs=token_inputs,\n",
    "                            outputs=token_outputs)\n",
    "\n",
    "# 2. Char-level embeddings\n",
    "char_inputs = layers.Input(shape=(1,), dtype='string', name='char_inputs')\n",
    "char_tokens = char_vectorizer(char_inputs)\n",
    "char_embeddings = char_embed(char_tokens)\n",
    "char_bi_lstm = layers.Bidirectional(layers.LSTM(32))(char_embeddings)\n",
    "char_model = tf.keras.Model(inputs=char_inputs,\n",
    "                           outputs=char_bi_lstm)\n",
    "\n",
    "# 3. Line number inputs\n",
    "line_number_inputs = layers.Input(shape=(line_number_depth,), dtype=tf.int32, name='line_number_inputs')\n",
    "# (1, ) means the length of one array is 15, and there can be as many lists as possible\n",
    "\n",
    "x = layers.Dense(32, activation='relu')(line_number_inputs)\n",
    "line_number_model = tf.keras.Model(inputs=line_number_inputs,\n",
    "                                  outputs=x)\n",
    "\n",
    "# 4. Total lines input\n",
    "total_lines_inputs = layers.Input(shape=(20,), dtype=tf.int32, name='total_lines_inputs')\n",
    "y = layers.Dense(32, activation='relu')(total_lines_inputs)\n",
    "total_lines_model = tf.keras.Model(inputs=total_lines_inputs,\n",
    "                                 outputs=y)\n",
    "\n",
    "# 5. Combine the token and char embedding layers into hybrid\n",
    "combined_embeddings = layers.Concatenate(name='hybrid_embedding')([token_model.output, char_model.output])\n",
    "\n",
    "z = layers.Dense(256, activation='relu')(combined_embeddings)\n",
    "z = layers.Dropout(0.5)(z)\n",
    "\n",
    "# 6. Combine positional embeddings with the hybrid embedding\n",
    "z = layers.Concatenate(name='hybrid_embedding_with_positional_embedding')([line_number_model.output,\n",
    "                                                                           total_lines_model.output,\n",
    "                                                                           z])\n",
    "\n",
    "# 7. Create output layer\n",
    "output_layer = layers.Dense(num_classes, activation='softmax')(z)\n",
    "\n",
    "# 8. Put the model together\n",
    "model_5 = tf.keras.Model(inputs=[line_number_model.input,\n",
    "                                total_lines_model.input,\n",
    "                                token_model.input,\n",
    "                                char_model.input],\n",
    "                                outputs=output_layer)\n",
    "\n",
    "model_5.compile(loss=tf.keras.losses.CategoricalCrossentropy(label_smoothing=0.2),\n",
    "               optimizer=tf.keras.optimizers.Adam(),\n",
    "               metrics=['accuracy'])\n",
    "\n",
    "model_5.summary()"
   ]
  },
  {
   "cell_type": "code",
   "execution_count": 97,
   "metadata": {
    "scrolled": true
   },
   "outputs": [
    {
     "data": {
      "image/png": "[encoded data removed]",
      "text/plain": [
       "<IPython.core.display.Image object>"
      ]
     },
     "execution_count": 97,
     "metadata": {},
     "output_type": "execute_result"
    }
   ],
   "source": [
    "from tensorflow.keras.utils import plot_model\n",
    "plot_model(model_5)"
   ]
  },
  {
   "cell_type": "code",
   "execution_count": 98,
   "metadata": {
    "scrolled": true
   },
   "outputs": [
    {
     "name": "stdout",
     "output_type": "stream",
     "text": [
      "Epoch 1/3\n",
      " 18/562 [..............................] - ETA: 1:03 - loss: 1.5631 - accuracy: 0.3576"
     ]
    },
    {
     "ename": "KeyboardInterrupt",
     "evalue": "",
     "output_type": "error",
     "traceback": [
      "\u001b[0;31m---------------------------------------------------------------------------\u001b[0m",
      "\u001b[0;31mKeyboardInterrupt\u001b[0m                         Traceback (most recent call last)",
      "\u001b[0;32m/var/folders/t2/crrw175x53d8065jlcmw3gfh0000gn/T/ipykernel_34314/3784145715.py\u001b[0m in \u001b[0;36m<module>\u001b[0;34m\u001b[0m\n\u001b[0;32m----> 1\u001b[0;31m model_5_history = model_5.fit(train_pos_char_token_dataset,\n\u001b[0m\u001b[1;32m      2\u001b[0m                              \u001b[0msteps_per_epoch\u001b[0m\u001b[0;34m=\u001b[0m\u001b[0mint\u001b[0m\u001b[0;34m(\u001b[0m\u001b[0;36m0.1\u001b[0m \u001b[0;34m*\u001b[0m \u001b[0mlen\u001b[0m\u001b[0;34m(\u001b[0m\u001b[0mtrain_pos_char_token_dataset\u001b[0m\u001b[0;34m)\u001b[0m\u001b[0;34m)\u001b[0m\u001b[0;34m,\u001b[0m\u001b[0;34m\u001b[0m\u001b[0;34m\u001b[0m\u001b[0m\n\u001b[1;32m      3\u001b[0m                              \u001b[0mepochs\u001b[0m\u001b[0;34m=\u001b[0m\u001b[0;36m3\u001b[0m\u001b[0;34m,\u001b[0m\u001b[0;34m\u001b[0m\u001b[0;34m\u001b[0m\u001b[0m\n\u001b[1;32m      4\u001b[0m                              \u001b[0mvalidation_data\u001b[0m\u001b[0;34m=\u001b[0m\u001b[0mval_pos_char_token_dataset\u001b[0m\u001b[0;34m,\u001b[0m\u001b[0;34m\u001b[0m\u001b[0;34m\u001b[0m\u001b[0m\n\u001b[1;32m      5\u001b[0m                              validation_steps=int(0.1 * len(val_pos_char_token_dataset)))\n",
      "\u001b[0;32m~/Documents/Projects/SkimLit/env/lib/python3.8/site-packages/tensorflow/python/keras/engine/training.py\u001b[0m in \u001b[0;36mfit\u001b[0;34m(self, x, y, batch_size, epochs, verbose, callbacks, validation_split, validation_data, shuffle, class_weight, sample_weight, initial_epoch, steps_per_epoch, validation_steps, validation_batch_size, validation_freq, max_queue_size, workers, use_multiprocessing)\u001b[0m\n\u001b[1;32m   1181\u001b[0m                 _r=1):\n\u001b[1;32m   1182\u001b[0m               \u001b[0mcallbacks\u001b[0m\u001b[0;34m.\u001b[0m\u001b[0mon_train_batch_begin\u001b[0m\u001b[0;34m(\u001b[0m\u001b[0mstep\u001b[0m\u001b[0;34m)\u001b[0m\u001b[0;34m\u001b[0m\u001b[0;34m\u001b[0m\u001b[0m\n\u001b[0;32m-> 1183\u001b[0;31m               \u001b[0mtmp_logs\u001b[0m \u001b[0;34m=\u001b[0m \u001b[0mself\u001b[0m\u001b[0;34m.\u001b[0m\u001b[0mtrain_function\u001b[0m\u001b[0;34m(\u001b[0m\u001b[0miterator\u001b[0m\u001b[0;34m)\u001b[0m\u001b[0;34m\u001b[0m\u001b[0;34m\u001b[0m\u001b[0m\n\u001b[0m\u001b[1;32m   1184\u001b[0m               \u001b[0;32mif\u001b[0m \u001b[0mdata_handler\u001b[0m\u001b[0;34m.\u001b[0m\u001b[0mshould_sync\u001b[0m\u001b[0;34m:\u001b[0m\u001b[0;34m\u001b[0m\u001b[0;34m\u001b[0m\u001b[0m\n\u001b[1;32m   1185\u001b[0m                 \u001b[0mcontext\u001b[0m\u001b[0;34m.\u001b[0m\u001b[0masync_wait\u001b[0m\u001b[0;34m(\u001b[0m\u001b[0;34m)\u001b[0m\u001b[0;34m\u001b[0m\u001b[0;34m\u001b[0m\u001b[0m\n",
      "\u001b[0;32m~/Documents/Projects/SkimLit/env/lib/python3.8/site-packages/tensorflow/python/eager/def_function.py\u001b[0m in \u001b[0;36m__call__\u001b[0;34m(self, *args, **kwds)\u001b[0m\n\u001b[1;32m    887\u001b[0m \u001b[0;34m\u001b[0m\u001b[0m\n\u001b[1;32m    888\u001b[0m       \u001b[0;32mwith\u001b[0m \u001b[0mOptionalXlaContext\u001b[0m\u001b[0;34m(\u001b[0m\u001b[0mself\u001b[0m\u001b[0;34m.\u001b[0m\u001b[0m_jit_compile\u001b[0m\u001b[0;34m)\u001b[0m\u001b[0;34m:\u001b[0m\u001b[0;34m\u001b[0m\u001b[0;34m\u001b[0m\u001b[0m\n\u001b[0;32m--> 889\u001b[0;31m         \u001b[0mresult\u001b[0m \u001b[0;34m=\u001b[0m \u001b[0mself\u001b[0m\u001b[0;34m.\u001b[0m\u001b[0m_call\u001b[0m\u001b[0;34m(\u001b[0m\u001b[0;34m*\u001b[0m\u001b[0margs\u001b[0m\u001b[0;34m,\u001b[0m \u001b[0;34m**\u001b[0m\u001b[0mkwds\u001b[0m\u001b[0;34m)\u001b[0m\u001b[0;34m\u001b[0m\u001b[0;34m\u001b[0m\u001b[0m\n\u001b[0m\u001b[1;32m    890\u001b[0m \u001b[0;34m\u001b[0m\u001b[0m\n\u001b[1;32m    891\u001b[0m       \u001b[0mnew_tracing_count\u001b[0m \u001b[0;34m=\u001b[0m \u001b[0mself\u001b[0m\u001b[0;34m.\u001b[0m\u001b[0mexperimental_get_tracing_count\u001b[0m\u001b[0;34m(\u001b[0m\u001b[0;34m)\u001b[0m\u001b[0;34m\u001b[0m\u001b[0;34m\u001b[0m\u001b[0m\n",
      "\u001b[0;32m~/Documents/Projects/SkimLit/env/lib/python3.8/site-packages/tensorflow/python/eager/def_function.py\u001b[0m in \u001b[0;36m_call\u001b[0;34m(self, *args, **kwds)\u001b[0m\n\u001b[1;32m    915\u001b[0m       \u001b[0;31m# In this case we have created variables on the first call, so we run the\u001b[0m\u001b[0;34m\u001b[0m\u001b[0;34m\u001b[0m\u001b[0;34m\u001b[0m\u001b[0m\n\u001b[1;32m    916\u001b[0m       \u001b[0;31m# defunned version which is guaranteed to never create variables.\u001b[0m\u001b[0;34m\u001b[0m\u001b[0;34m\u001b[0m\u001b[0;34m\u001b[0m\u001b[0m\n\u001b[0;32m--> 917\u001b[0;31m       \u001b[0;32mreturn\u001b[0m \u001b[0mself\u001b[0m\u001b[0;34m.\u001b[0m\u001b[0m_stateless_fn\u001b[0m\u001b[0;34m(\u001b[0m\u001b[0;34m*\u001b[0m\u001b[0margs\u001b[0m\u001b[0;34m,\u001b[0m \u001b[0;34m**\u001b[0m\u001b[0mkwds\u001b[0m\u001b[0;34m)\u001b[0m  \u001b[0;31m# pylint: disable=not-callable\u001b[0m\u001b[0;34m\u001b[0m\u001b[0;34m\u001b[0m\u001b[0m\n\u001b[0m\u001b[1;32m    918\u001b[0m     \u001b[0;32melif\u001b[0m \u001b[0mself\u001b[0m\u001b[0;34m.\u001b[0m\u001b[0m_stateful_fn\u001b[0m \u001b[0;32mis\u001b[0m \u001b[0;32mnot\u001b[0m \u001b[0;32mNone\u001b[0m\u001b[0;34m:\u001b[0m\u001b[0;34m\u001b[0m\u001b[0;34m\u001b[0m\u001b[0m\n\u001b[1;32m    919\u001b[0m       \u001b[0;31m# Release the lock early so that multiple threads can perform the call\u001b[0m\u001b[0;34m\u001b[0m\u001b[0;34m\u001b[0m\u001b[0;34m\u001b[0m\u001b[0m\n",
      "\u001b[0;32m~/Documents/Projects/SkimLit/env/lib/python3.8/site-packages/tensorflow/python/eager/function.py\u001b[0m in \u001b[0;36m__call__\u001b[0;34m(self, *args, **kwargs)\u001b[0m\n\u001b[1;32m   3021\u001b[0m       (graph_function,\n\u001b[1;32m   3022\u001b[0m        filtered_flat_args) = self._maybe_define_function(args, kwargs)\n\u001b[0;32m-> 3023\u001b[0;31m     return graph_function._call_flat(\n\u001b[0m\u001b[1;32m   3024\u001b[0m         filtered_flat_args, captured_inputs=graph_function.captured_inputs)  # pylint: disable=protected-access\n\u001b[1;32m   3025\u001b[0m \u001b[0;34m\u001b[0m\u001b[0m\n",
      "\u001b[0;32m~/Documents/Projects/SkimLit/env/lib/python3.8/site-packages/tensorflow/python/eager/function.py\u001b[0m in \u001b[0;36m_call_flat\u001b[0;34m(self, args, captured_inputs, cancellation_manager)\u001b[0m\n\u001b[1;32m   1958\u001b[0m         and executing_eagerly):\n\u001b[1;32m   1959\u001b[0m       \u001b[0;31m# No tape is watching; skip to running the function.\u001b[0m\u001b[0;34m\u001b[0m\u001b[0;34m\u001b[0m\u001b[0;34m\u001b[0m\u001b[0m\n\u001b[0;32m-> 1960\u001b[0;31m       return self._build_call_outputs(self._inference_function.call(\n\u001b[0m\u001b[1;32m   1961\u001b[0m           ctx, args, cancellation_manager=cancellation_manager))\n\u001b[1;32m   1962\u001b[0m     forward_backward = self._select_forward_and_backward_functions(\n",
      "\u001b[0;32m~/Documents/Projects/SkimLit/env/lib/python3.8/site-packages/tensorflow/python/eager/function.py\u001b[0m in \u001b[0;36mcall\u001b[0;34m(self, ctx, args, cancellation_manager)\u001b[0m\n\u001b[1;32m    589\u001b[0m       \u001b[0;32mwith\u001b[0m \u001b[0m_InterpolateFunctionError\u001b[0m\u001b[0;34m(\u001b[0m\u001b[0mself\u001b[0m\u001b[0;34m)\u001b[0m\u001b[0;34m:\u001b[0m\u001b[0;34m\u001b[0m\u001b[0;34m\u001b[0m\u001b[0m\n\u001b[1;32m    590\u001b[0m         \u001b[0;32mif\u001b[0m \u001b[0mcancellation_manager\u001b[0m \u001b[0;32mis\u001b[0m \u001b[0;32mNone\u001b[0m\u001b[0;34m:\u001b[0m\u001b[0;34m\u001b[0m\u001b[0;34m\u001b[0m\u001b[0m\n\u001b[0;32m--> 591\u001b[0;31m           outputs = execute.execute(\n\u001b[0m\u001b[1;32m    592\u001b[0m               \u001b[0mstr\u001b[0m\u001b[0;34m(\u001b[0m\u001b[0mself\u001b[0m\u001b[0;34m.\u001b[0m\u001b[0msignature\u001b[0m\u001b[0;34m.\u001b[0m\u001b[0mname\u001b[0m\u001b[0;34m)\u001b[0m\u001b[0;34m,\u001b[0m\u001b[0;34m\u001b[0m\u001b[0;34m\u001b[0m\u001b[0m\n\u001b[1;32m    593\u001b[0m               \u001b[0mnum_outputs\u001b[0m\u001b[0;34m=\u001b[0m\u001b[0mself\u001b[0m\u001b[0;34m.\u001b[0m\u001b[0m_num_outputs\u001b[0m\u001b[0;34m,\u001b[0m\u001b[0;34m\u001b[0m\u001b[0;34m\u001b[0m\u001b[0m\n",
      "\u001b[0;32m~/Documents/Projects/SkimLit/env/lib/python3.8/site-packages/tensorflow/python/eager/execute.py\u001b[0m in \u001b[0;36mquick_execute\u001b[0;34m(op_name, num_outputs, inputs, attrs, ctx, name)\u001b[0m\n\u001b[1;32m     57\u001b[0m   \u001b[0;32mtry\u001b[0m\u001b[0;34m:\u001b[0m\u001b[0;34m\u001b[0m\u001b[0;34m\u001b[0m\u001b[0m\n\u001b[1;32m     58\u001b[0m     \u001b[0mctx\u001b[0m\u001b[0;34m.\u001b[0m\u001b[0mensure_initialized\u001b[0m\u001b[0;34m(\u001b[0m\u001b[0;34m)\u001b[0m\u001b[0;34m\u001b[0m\u001b[0;34m\u001b[0m\u001b[0m\n\u001b[0;32m---> 59\u001b[0;31m     tensors = pywrap_tfe.TFE_Py_Execute(ctx._handle, device_name, op_name,\n\u001b[0m\u001b[1;32m     60\u001b[0m                                         inputs, attrs, num_outputs)\n\u001b[1;32m     61\u001b[0m   \u001b[0;32mexcept\u001b[0m \u001b[0mcore\u001b[0m\u001b[0;34m.\u001b[0m\u001b[0m_NotOkStatusException\u001b[0m \u001b[0;32mas\u001b[0m \u001b[0me\u001b[0m\u001b[0;34m:\u001b[0m\u001b[0;34m\u001b[0m\u001b[0;34m\u001b[0m\u001b[0m\n",
      "\u001b[0;31mKeyboardInterrupt\u001b[0m: "
     ]
    }
   ],
   "source": [
    "model_5_history = model_5.fit(train_pos_char_token_dataset,\n",
    "                             steps_per_epoch=int(0.1 * len(train_pos_char_token_dataset)),\n",
    "                             epochs=3,\n",
    "                             validation_data=val_pos_char_token_dataset,\n",
    "                             validation_steps=int(0.1 * len(val_pos_char_token_dataset)))"
   ]
  },
  {
   "cell_type": "markdown",
   "metadata": {},
   "source": [
    "# ✍🏽 Model Evaluation\n"
   ]
  },
  {
   "cell_type": "code",
   "execution_count": null,
   "metadata": {},
   "outputs": [],
   "source": [
    "model_5.evaluate(val_pos_char_token_dataset)"
   ]
  },
  {
   "cell_type": "code",
   "execution_count": null,
   "metadata": {},
   "outputs": [],
   "source": [
    "model_5_pred_probs = model_5.predict(val_pos_char_token_dataset)\n",
    "model_5_pred_probs"
   ]
  },
  {
   "cell_type": "code",
   "execution_count": null,
   "metadata": {
    "scrolled": false
   },
   "outputs": [],
   "source": [
    "model_5_preds = tf.argmax(model_5_pred_probs,axis=1)\n",
    "model_5_preds"
   ]
  },
  {
   "cell_type": "code",
   "execution_count": null,
   "metadata": {},
   "outputs": [],
   "source": [
    "model_5_results = calculate_results(y_true=val_labels_encoded,\n",
    "                                   y_pred=model_5_preds)"
   ]
  },
  {
   "cell_type": "code",
   "execution_count": null,
   "metadata": {
    "scrolled": false
   },
   "outputs": [],
   "source": [
    "all_model_results = pd.DataFrame({\n",
    "    \"baseline\": baseline_results,\n",
    "    \"custom_token_embedding\": model_1_results,\n",
    "    \"pretrained token embedding layer\": model_2_results,\n",
    "    \"Conv1D with character-level embedding\":model_3_results,\n",
    "    \"Token & Char Hybrid Embedding w/ Bi-LSTM\": model_4_results,\n",
    "    \"Token & Char & Positional Embedding w/ Bi-LSTM\": model_5_results\n",
    "})\n",
    "\n",
    "all_model_results = all_model_results.transpose()\n",
    "all_model_results"
   ]
  },
  {
   "cell_type": "markdown",
   "metadata": {},
   "source": [
    "![title](img/conclusion.png) \n",
    "\n",
    "### The tribrid model performs the best by a fair margin\n",
    "\n",
    "Although under performing compared to the model shown in the paper, the model is only trained on 10% of the data.\n",
    "\n",
    "We can upscale this model to get better scores.\n"
   ]
  },
  {
   "cell_type": "code",
   "execution_count": null,
   "metadata": {},
   "outputs": [],
   "source": [
    "# Reduce the accuracy to the same scale as others\n",
    "all_model_results['accuracy'] = all_model_results['accuracy']/100\n",
    "\n",
    "# Plot and compare the model results on a bar chart\n",
    "all_model_results.plot(kind='bar', figsize=(10,7)).legend(bbox_to_anchor=(1.0, 1.0));"
   ]
  },
  {
   "cell_type": "code",
   "execution_count": null,
   "metadata": {
    "scrolled": true
   },
   "outputs": [],
   "source": [
    "# Plot the f1 results alone\n",
    "all_model_results.sort_values('f1', ascending=False)['f1'].plot(kind='bar', figsize=(10,7))"
   ]
  },
  {
   "cell_type": "code",
   "execution_count": null,
   "metadata": {
    "scrolled": true
   },
   "outputs": [],
   "source": [
    "model_5.save('skimlit_tribrid_model')"
   ]
  },
  {
   "cell_type": "markdown",
   "metadata": {},
   "source": [
    "# ✍🏽 Model 5 Evaluation on the Test dataset"
   ]
  },
  {
   "cell_type": "code",
   "execution_count": null,
   "metadata": {},
   "outputs": [],
   "source": [
    "test_pos_char_token_data = tf.data.Dataset.from_tensor_slices((test_line_numbers_one_hot,\n",
    "                                                             test_total_lines_one_hot,\n",
    "                                                             test_sentences,\n",
    "                                                             test_chars))\n",
    "\n",
    "test_pos_char_token_labels = tf.data.Dataset.from_tensor_slices(test_labels_one_hot)\n",
    "\n",
    "test_pos_char_token_dataset = tf.data.Dataset.zip((test_pos_char_token_data, test_pos_char_token_labels))\n",
    "\n",
    "test_pos_char_token_dataset = test_pos_char_token_dataset.batch(32).prefetch(tf.data.AUTOTUNE)\n",
    "\n",
    "test_pos_char_token_dataset"
   ]
  },
  {
   "cell_type": "code",
   "execution_count": null,
   "metadata": {},
   "outputs": [],
   "source": [
    "test_pred_probs = model_5.predict(test_pos_char_token_dataset,\n",
    "                                 verbose=1)\n",
    "\n",
    "test_preds = tf.argmax(test_pred_probs, axis=1)\n",
    "test_preds[:10]"
   ]
  },
  {
   "cell_type": "code",
   "execution_count": null,
   "metadata": {},
   "outputs": [],
   "source": [
    "test_results = calculate_results(y_true=test_labels_encoded,\n",
    "                                y_pred=test_preds)\n",
    "test_results"
   ]
  },
  {
   "cell_type": "markdown",
   "metadata": {},
   "source": [
    "The model has yet to match the performance of the results in the paper (f1 score of 90, while ours is only 82).\n",
    "\n",
    "### Model Improvements that can be made\n",
    "* Train on full dataset\n",
    "* Fine-tune pretrained embeddings"
   ]
  },
  {
   "cell_type": "code",
   "execution_count": null,
   "metadata": {},
   "outputs": [],
   "source": [
    "# Get a list of the class names of the test predictions\n",
    "test_pred_classes = [label_encoder.class_[pred] for pred in test_preds]\n",
    "test_pred_classes"
   ]
  },
  {
   "cell_type": "code",
   "execution_count": null,
   "metadata": {},
   "outputs": [],
   "source": []
  }
 ],
 "metadata": {
  "interpreter": {
   "hash": "bbee7842ce8ba476870a006d5d5b68f11cea175afb0fea017b7f81beccf88892"
  },
  "kernelspec": {
   "display_name": "Python 3 (ipykernel)",
   "language": "python",
   "name": "python3"
  },
  "language_info": {
   "codemirror_mode": {
    "name": "ipython",
    "version": 3
   },
   "file_extension": ".py",
   "mimetype": "text/x-python",
   "name": "python",
   "nbconvert_exporter": "python",
   "pygments_lexer": "ipython3",
   "version": "3.8.6"
  },
  "toc-autonumbering": false,
  "toc-showcode": false,
  "toc-showmarkdowntxt": false,
  "toc-showtags": true
 },
 "nbformat": 4,
 "nbformat_minor": 4
}
